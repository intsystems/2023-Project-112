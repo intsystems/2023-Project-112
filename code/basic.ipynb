{
 "cells": [
  {
   "cell_type": "markdown",
   "metadata": {},
   "source": [
    "# Импорт библиотек"
   ]
  },
  {
   "cell_type": "code",
   "execution_count": 2,
   "metadata": {},
   "outputs": [],
   "source": [
    "import numpy as np\n",
    "import matplotlib.pyplot as plt\n",
    "import os\n",
    "import nibabel as nib\n",
    "import torch\n",
    "import torchvision.transforms as transforms\n",
    "import cv2\n",
    "from PIL import Image\n",
    "from sklearn.linear_model import LinearRegression\n",
    "from scipy.ndimage import gaussian_filter\n",
    "from scipy.signal import convolve\n",
    "import scipy.signal as signal\n",
    "import random"
   ]
  },
  {
   "cell_type": "markdown",
   "metadata": {},
   "source": [
    "# Работа с данными"
   ]
  },
  {
   "cell_type": "markdown",
   "metadata": {},
   "source": [
    "## Видеоряд"
   ]
  },
  {
   "cell_type": "code",
   "execution_count": 15,
   "metadata": {},
   "outputs": [],
   "source": [
    "video_path = os.path.join(os.path.dirname(os.getcwd()), \"src\", \"Film stimulus.mp4\")"
   ]
  },
  {
   "cell_type": "code",
   "execution_count": 16,
   "metadata": {},
   "outputs": [],
   "source": [
    "def video_to_frames():\n",
    "    videocap = cv2.VideoCapture(video_path)\n",
    "    success, frame = videocap.read()\n",
    "    count = 1\n",
    "    while success:\n",
    "        cv2.imwrite(os.path.join(os.path.dirname(os.getcwd()),\n",
    "                                \"src\", \"frames\", f\"frame_{count}.jpg\"), frame)    \n",
    "        success, frame = videocap.read()\n",
    "        count += 1"
   ]
  },
  {
   "cell_type": "code",
   "execution_count": 17,
   "metadata": {},
   "outputs": [],
   "source": [
    "video_to_frames()"
   ]
  },
  {
   "cell_type": "code",
   "execution_count": 32,
   "metadata": {},
   "outputs": [
    {
     "name": "stderr",
     "output_type": "stream",
     "text": [
      "Downloading: \"https://github.com/pytorch/vision/zipball/v0.6.0\" to C:\\Users\\Чёрный господин/.cache\\torch\\hub\\v0.6.0.zip\n",
      "C:\\phyton\\lib\\site-packages\\torchvision\\models\\_utils.py:208: UserWarning: The parameter 'pretrained' is deprecated since 0.13 and may be removed in the future, please use 'weights' instead.\n",
      "  warnings.warn(\n",
      "C:\\phyton\\lib\\site-packages\\torchvision\\models\\_utils.py:223: UserWarning: Arguments other than a weight enum or `None` for 'weights' are deprecated since 0.13 and may be removed in the future. The current behavior is equivalent to passing `weights=ResNet152_Weights.IMAGENET1K_V1`. You can also use `weights=ResNet152_Weights.DEFAULT` to get the most up-to-date weights.\n",
      "  warnings.warn(msg)\n",
      "Downloading: \"https://download.pytorch.org/models/resnet152-394f9c45.pth\" to C:\\Users\\Чёрный господин/.cache\\torch\\hub\\checkpoints\\resnet152-394f9c45.pth\n"
     ]
    },
    {
     "data": {
      "application/vnd.jupyter.widget-view+json": {
       "model_id": "2dda5f10c86d41c388f9a409be602540",
       "version_major": 2,
       "version_minor": 0
      },
      "text/plain": [
       "  0%|          | 0.00/230M [00:00<?, ?B/s]"
      ]
     },
     "metadata": {},
     "output_type": "display_data"
    }
   ],
   "source": [
    "model = torch.hub.load('pytorch/vision:v0.6.0', 'resnet152', pretrained=True, verbose=False)\n",
    "\n",
    "for param in model.parameters():\n",
    "    param.requires_grad = False\n",
    "\n",
    "model.fc = torch.nn.Linear(2048, 2048)"
   ]
  },
  {
   "cell_type": "code",
   "execution_count": 21,
   "metadata": {},
   "outputs": [],
   "source": [
    "preprocess = transforms.Compose([\n",
    "    transforms.Resize(256),\n",
    "    transforms.CenterCrop(224),\n",
    "    transforms.ToTensor(),\n",
    "    transforms.Normalize(mean=[0.485, 0.456, 0.406],\n",
    "                         std=[0.229, 0.224, 0.225])\n",
    "])"
   ]
  },
  {
   "cell_type": "code",
   "execution_count": 22,
   "metadata": {},
   "outputs": [],
   "source": [
    "def frames_to_tensors():\n",
    "    for i in range(1, 9751):\n",
    "        frame_path = os.path.join(os.path.dirname(os.getcwd()), \"src\", \"frames\", f\"frame_{i}.jpg\")\n",
    "        frame = Image.open(frame_path)\n",
    "        frame_tensor = preprocess(frame)\n",
    "        frame_tensor = frame_tensor.unsqueeze(0)\n",
    "        yield frame_tensor"
   ]
  },
  {
   "cell_type": "code",
   "execution_count": 23,
   "metadata": {},
   "outputs": [],
   "source": [
    "def tensors_to_vectors():\n",
    "    for frame_tensor in frames_to_tensors():\n",
    "        # передача картинки в модель и получение выходных данных\n",
    "        with torch.no_grad():\n",
    "            output = model(frame_tensor)\n",
    "        # преобразование выходных данных в вектор\n",
    "        vector = output.numpy().flatten()\n",
    "        yield vector"
   ]
  },
  {
   "cell_type": "code",
   "execution_count": 31,
   "metadata": {},
   "outputs": [],
   "source": [
    "#vector_list = [vector for vector in tensors_to_vectors()]\n",
    "#np.save(\"vector_list\", vector_list)\n",
    "vector_list = np.load(\"vector_list.npy\")"
   ]
  },
  {
   "cell_type": "markdown",
   "metadata": {},
   "source": [
    "## Снимки фМРТ"
   ]
  },
  {
   "cell_type": "code",
   "execution_count": 24,
   "metadata": {},
   "outputs": [],
   "source": [
    "subs_with_fmri = ['04', '07', '08', '09', '11', '13', '14', '15', '16', '18',\\\n",
    "                  '22', '24', '27', '28', '29', '31', '35', '41', '43', '44',\\\n",
    "                  '45', '46', '47', '51', '52', '53', '55', '56', '60', '62']"
   ]
  },
  {
   "cell_type": "code",
   "execution_count": 25,
   "metadata": {},
   "outputs": [],
   "source": [
    "def subs_to_tensors():\n",
    "    for sub in subs_with_fmri:\n",
    "        sub_path = os.path.join(os.path.dirname(os.getcwd()), \"src\", \"ds003688-download\", f\"sub-{sub}\",\\\n",
    "                                \"ses-mri3t\", \"func\", f\"sub-{sub}_ses-mri3t_task-film_run-1_bold.nii.gz\")\n",
    "        sub_scan = nib.load(sub_path)\n",
    "        sub_data = sub_scan.get_fdata()\n",
    "        sub_tensor = torch.tensor(sub_data)\n",
    "        yield sub_tensor\n",
    "        "
   ]
  },
  {
   "cell_type": "code",
   "execution_count": 26,
   "metadata": {},
   "outputs": [],
   "source": [
    "def get_sub_tensor(nsub: str):\n",
    "    for sub, sub_tensor in zip(subs_with_fmri, subs_to_tensors()):\n",
    "        if nsub != sub:\n",
    "            continue\n",
    "        else:\n",
    "            return sub_tensor"
   ]
  },
  {
   "cell_type": "code",
   "execution_count": 27,
   "metadata": {},
   "outputs": [],
   "source": [
    "sub_tensor = next(subs_to_tensors())\n",
    "X, Y, Z, N = sub_tensor.shape\n",
    "# X = 40\n",
    "# Y = 64\n",
    "# Z = 64\n",
    "# N = 641"
   ]
  },
  {
   "cell_type": "code",
   "execution_count": 28,
   "metadata": {},
   "outputs": [],
   "source": [
    "def scans_to_tensors(nsub: str):\n",
    "    sub_tensor = get_sub_tensor(nsub)\n",
    "    for i in range(sub_tensor.shape[3]):\n",
    "        scan_tensor = sub_tensor[:, :, :, i]\n",
    "        yield scan_tensor.numpy()"
   ]
  },
  {
   "cell_type": "markdown",
   "metadata": {},
   "source": [
    "# Построение линейной модели"
   ]
  },
  {
   "cell_type": "markdown",
   "metadata": {},
   "source": [
    "## Рассмотрение конкретного испытуемого"
   ]
  },
  {
   "cell_type": "code",
   "execution_count": 29,
   "metadata": {},
   "outputs": [],
   "source": [
    "# функция, которая на вход получает\n",
    "# dt - гиперпараметр, время задержки\n",
    "# sub - номер испытуемого\n",
    "# preprocessing - индикатор того, нужно ли предобрабатывать данные\n",
    "# ptype - тип предобработки\n",
    "# compression - индикатор того, нужно ли сжатие снимка фМРТ\n",
    "# coef - во сколько раз сжимается снимок фМРТ\n",
    "# train_size - часть выборки, выделенная под train\n",
    "\n",
    "def sub_linear_prediction(dt=5, sub='04', preprocessing=True, ptype=\"normalization\",\\\n",
    "                            compression=True, coef=8, train_size=0.7):\n",
    "    # частота видео\n",
    "    nu = 25\n",
    "    # частота снимков фМРТ\n",
    "    mu = 641. / 390.\n",
    "    # размерности снимка фМРТ до сжатия\n",
    "    m, n, k = 40, 64, 64\n",
    "    # длина вектора признакового описания изображения\n",
    "    d = 2048\n",
    "    # N - количество снимков fMRI\n",
    "    N = 641 - int(mu * dt)\n",
    "    # (номер изображения, номер снимка)\n",
    "    pairs = [(int(m * nu / mu), int(mu * dt + m)) for m in range(N)]\n",
    "\n",
    "    # тензор снимка фМРТ\n",
    "    sub_tensor = get_sub_tensor(sub)\n",
    "    \n",
    "    # сжатие снимка фМРТ\n",
    "    if compression:\n",
    "        maxpool = torch.nn.MaxPool3d(kernel_size=coef, stride=coef)\n",
    "        input_tensor = sub_tensor.permute(3, 0, 1, 2)\n",
    "        output_tensor = maxpool(input_tensor).permute(1, 2, 3, 0)\n",
    "    else:\n",
    "        output_tensor = sub_tensor\n",
    "\n",
    "    d1, d2, d3, d4 = output_tensor.shape\n",
    "\n",
    "    # список тензоров снимков фМРТ\n",
    "    scans_list = [output_tensor[:, :, :, i] for i in range(output_tensor.shape[3])]\n",
    "\n",
    "    # список снимков фМРТ, развернутых в векторы\n",
    "    voxels = [scan.reshape(d1 * d2 * d3).numpy() for scan in scans_list]\n",
    "\n",
    "    # (изображение, снимок)\n",
    "    data = [(vector_list[n], voxels[k]) for n, k in pairs]\n",
    "\n",
    "    # train, test\n",
    "    l = int(train_size * d4)\n",
    "    train, test = data[:l], data[l:]\n",
    "\n",
    "    # preprocessing\n",
    "    def preprocess(v, ptype=\"normalization\"):\n",
    "        if ptype == \"normalization\":\n",
    "            return (v - v.min()) / (v.max() - v.min())\n",
    "        elif ptype == \"standardization\":\n",
    "            return (v - v.mean()) / v.std()\n",
    "        \n",
    "    if preprocessing:\n",
    "        train = [(pair[0], preprocess(pair[1], ptype)) for pair in train]\n",
    "        test = [(pair[0], preprocess(pair[1], ptype)) for pair in test]\n",
    "\n",
    "    # линейная регрессия\n",
    "    linreg = LinearRegression()\n",
    "\n",
    "    # матрица весов модели\n",
    "    W = []\n",
    "\n",
    "    X_train = np.array([pair[0] for pair in train])\n",
    "    Y_train = np.array([pair[1] for pair in train]).T\n",
    "    X_test = np.array([pair[0] for pair in test]).T\n",
    "    Y_test = np.array([pair[1] for pair in test]).T\n",
    "\n",
    "    for i in range(d1 * d2 * d3):\n",
    "        # создать столбец Y\n",
    "        Y_train_vector = Y_train[i]\n",
    "        # получить вектор w_i\n",
    "        linreg.fit(X_train, Y_train_vector)\n",
    "        w = linreg.coef_\n",
    "        # добавить его в матрицу W = [w_i], i = 0, ..., d1 * d2 * d3\n",
    "        W.append(w)\n",
    "\n",
    "    W = np.array(W)\n",
    "    \n",
    "    Y_train_predicted = W @ X_train.T\n",
    "    Y_test_predicted = W @ X_test\n",
    "\n",
    "    # усреднение по всем столбцам (снимкам фМРТ)\n",
    "    def MSE(A):\n",
    "        m, n = A.shape\n",
    "        return 1 / n * np.linalg.norm(A, \"fro\") ** 2\n",
    "    \n",
    "    MSE_train = MSE(Y_train_predicted - Y_train)\n",
    "    MSE_test = MSE(Y_test_predicted - Y_test)\n",
    "\n",
    "    # сохранение выхода в файл\n",
    "    output = np.array([MSE_train, MSE_test, Y_test, Y_test_predicted, d1, d2, d3], dtype=object)\n",
    "    output_name = f\"output-{dt}-{sub}\"\n",
    "    if preprocessing:\n",
    "        output_name = output_name + f\"-{ptype}\"\n",
    "    if compression:\n",
    "        output_name = output_name + f\"-{coef}\"\n",
    "    np.save(output_name, output, allow_pickle=True)\n",
    "\n",
    "    return output"
   ]
  },
  {
   "cell_type": "code",
   "execution_count": 30,
   "metadata": {},
   "outputs": [
    {
     "ename": "NameError",
     "evalue": "name 'vector_list' is not defined",
     "output_type": "error",
     "traceback": [
      "\u001b[1;31m---------------------------------------------------------------------------\u001b[0m",
      "\u001b[1;31mNameError\u001b[0m                                 Traceback (most recent call last)",
      "\u001b[1;32m<ipython-input-30-f65f0a926bd8>\u001b[0m in \u001b[0;36m<module>\u001b[1;34m\u001b[0m\n\u001b[1;32m----> 1\u001b[1;33m output = sub_linear_prediction(dt=4, sub='04', preprocessing=True, ptype=\"normalization\",\\\n\u001b[0m\u001b[0;32m      2\u001b[0m                                 compression=True, coef=2, train_size=0.7)\n\u001b[0;32m      3\u001b[0m \u001b[0mMSE_train\u001b[0m\u001b[1;33m,\u001b[0m \u001b[0mMSE_test\u001b[0m\u001b[1;33m,\u001b[0m \u001b[0mY_test\u001b[0m\u001b[1;33m,\u001b[0m \u001b[0mY_test_predicted\u001b[0m\u001b[1;33m,\u001b[0m \u001b[0md1\u001b[0m\u001b[1;33m,\u001b[0m \u001b[0md2\u001b[0m\u001b[1;33m,\u001b[0m \u001b[0md3\u001b[0m \u001b[1;33m=\u001b[0m \u001b[0moutput\u001b[0m\u001b[1;33m\u001b[0m\u001b[1;33m\u001b[0m\u001b[0m\n",
      "\u001b[1;32m<ipython-input-29-0d0d3489652e>\u001b[0m in \u001b[0;36msub_linear_prediction\u001b[1;34m(dt, sub, preprocessing, ptype, compression, coef, train_size)\u001b[0m\n\u001b[0;32m     43\u001b[0m \u001b[1;33m\u001b[0m\u001b[0m\n\u001b[0;32m     44\u001b[0m     \u001b[1;31m# (изображение, снимок)\u001b[0m\u001b[1;33m\u001b[0m\u001b[1;33m\u001b[0m\u001b[1;33m\u001b[0m\u001b[0m\n\u001b[1;32m---> 45\u001b[1;33m     \u001b[0mdata\u001b[0m \u001b[1;33m=\u001b[0m \u001b[1;33m[\u001b[0m\u001b[1;33m(\u001b[0m\u001b[0mvector_list\u001b[0m\u001b[1;33m[\u001b[0m\u001b[0mn\u001b[0m\u001b[1;33m]\u001b[0m\u001b[1;33m,\u001b[0m \u001b[0mvoxels\u001b[0m\u001b[1;33m[\u001b[0m\u001b[0mk\u001b[0m\u001b[1;33m]\u001b[0m\u001b[1;33m)\u001b[0m \u001b[1;32mfor\u001b[0m \u001b[0mn\u001b[0m\u001b[1;33m,\u001b[0m \u001b[0mk\u001b[0m \u001b[1;32min\u001b[0m \u001b[0mpairs\u001b[0m\u001b[1;33m]\u001b[0m\u001b[1;33m\u001b[0m\u001b[1;33m\u001b[0m\u001b[0m\n\u001b[0m\u001b[0;32m     46\u001b[0m \u001b[1;33m\u001b[0m\u001b[0m\n\u001b[0;32m     47\u001b[0m     \u001b[1;31m# train, test\u001b[0m\u001b[1;33m\u001b[0m\u001b[1;33m\u001b[0m\u001b[1;33m\u001b[0m\u001b[0m\n",
      "\u001b[1;32m<ipython-input-29-0d0d3489652e>\u001b[0m in \u001b[0;36m<listcomp>\u001b[1;34m(.0)\u001b[0m\n\u001b[0;32m     43\u001b[0m \u001b[1;33m\u001b[0m\u001b[0m\n\u001b[0;32m     44\u001b[0m     \u001b[1;31m# (изображение, снимок)\u001b[0m\u001b[1;33m\u001b[0m\u001b[1;33m\u001b[0m\u001b[1;33m\u001b[0m\u001b[0m\n\u001b[1;32m---> 45\u001b[1;33m     \u001b[0mdata\u001b[0m \u001b[1;33m=\u001b[0m \u001b[1;33m[\u001b[0m\u001b[1;33m(\u001b[0m\u001b[0mvector_list\u001b[0m\u001b[1;33m[\u001b[0m\u001b[0mn\u001b[0m\u001b[1;33m]\u001b[0m\u001b[1;33m,\u001b[0m \u001b[0mvoxels\u001b[0m\u001b[1;33m[\u001b[0m\u001b[0mk\u001b[0m\u001b[1;33m]\u001b[0m\u001b[1;33m)\u001b[0m \u001b[1;32mfor\u001b[0m \u001b[0mn\u001b[0m\u001b[1;33m,\u001b[0m \u001b[0mk\u001b[0m \u001b[1;32min\u001b[0m \u001b[0mpairs\u001b[0m\u001b[1;33m]\u001b[0m\u001b[1;33m\u001b[0m\u001b[1;33m\u001b[0m\u001b[0m\n\u001b[0m\u001b[0;32m     46\u001b[0m \u001b[1;33m\u001b[0m\u001b[0m\n\u001b[0;32m     47\u001b[0m     \u001b[1;31m# train, test\u001b[0m\u001b[1;33m\u001b[0m\u001b[1;33m\u001b[0m\u001b[1;33m\u001b[0m\u001b[0m\n",
      "\u001b[1;31mNameError\u001b[0m: name 'vector_list' is not defined"
     ]
    }
   ],
   "source": [
    "output = sub_linear_prediction(dt=4, sub='04', preprocessing=True, ptype=\"normalization\",\\\n",
    "                                compression=True, coef=2, train_size=0.7)\n",
    "MSE_train, MSE_test, Y_test, Y_test_predicted, d1, d2, d3 = output"
   ]
  },
  {
   "cell_type": "code",
   "execution_count": 33,
   "metadata": {},
   "outputs": [],
   "source": [
    "output = np.load(\"output-4-04-normalization-4.npy\", allow_pickle=True)\n",
    "MSE_train, MSE_test, Y_test, Y_test_predicted, d1, d2, d3 = output"
   ]
  },
  {
   "cell_type": "code",
   "execution_count": 34,
   "metadata": {},
   "outputs": [
    {
     "name": "stdout",
     "output_type": "stream",
     "text": [
      "MSE_train = 253.02, MSE_test = 259.92\n"
     ]
    }
   ],
   "source": [
    "print(f\"MSE_train = {MSE_train:.2f}, MSE_test = {MSE_test:.2f}\")"
   ]
  },
  {
   "cell_type": "markdown",
   "metadata": {},
   "source": [
    "## Зависимость MSE на тестовой выборке от гиперпараметра $\\Delta t$"
   ]
  },
  {
   "cell_type": "code",
   "execution_count": 35,
   "metadata": {},
   "outputs": [],
   "source": [
    "t = [2, 2.5, 3, 3.5, 4, 4.5, 5, 5.5, 6, 6.5, 7, 7.5]\n",
    "mse = []\n",
    "\n",
    "for dt in t:\n",
    "    output = np.load(f\"output-{dt}-04-normalization-4.npy\", allow_pickle=True)\n",
    "    MSE_test = output[1]\n",
    "    mse.append(MSE_test)"
   ]
  },
  {
   "cell_type": "code",
   "execution_count": 36,
   "metadata": {},
   "outputs": [
    {
     "name": "stderr",
     "output_type": "stream",
     "text": [
      "The PostScript backend does not support transparency; partially transparent artists will be rendered opaque.\n"
     ]
    },
    {
     "data": {
      "image/png": "[encoded data removed]",
      "text/plain": [
       "<Figure size 432x288 with 1 Axes>"
      ]
     },
     "metadata": {
      "needs_background": "light"
     },
     "output_type": "display_data"
    }
   ],
   "source": [
    "plt.rcParams.update({'font.size': 12})\n",
    "plt.rc(\"font\", family='serif')\n",
    "\n",
    "plt.plot(t, mse, marker='o', color=\"blue\")\n",
    "#plt.title(\"График зависимости MSE($\\Delta t$)\")\n",
    "plt.xlabel(\"Время задержки $\\Delta t$, с\")\n",
    "plt.ylabel(\"MSE\")\n",
    "plt.grid(alpha=0.2)\n",
    "\n",
    "figures = \"../figures\"\n",
    "plt.savefig(\n",
    "    os.path.join(figures, \"MSE_dt.eps\"),\n",
    "    bbox_inches=\"tight\")"
   ]
  },
  {
   "cell_type": "markdown",
   "metadata": {},
   "source": [
    "## Test (original)"
   ]
  },
  {
   "cell_type": "code",
   "execution_count": 156,
   "metadata": {},
   "outputs": [
    {
     "data": {
      "image/png": "[encoded data removed]",
      "text/plain": [
       "<Figure size 432x288 with 2 Axes>"
      ]
     },
     "metadata": {
      "needs_background": "light"
     },
     "output_type": "display_data"
    }
   ],
   "source": [
    "fmri_test_vector = Y_test.T[10]\n",
    "fmri_test = fmri_test_vector.reshape((d1, d2, d3))\n",
    "\n",
    "plt.imshow(fmri_test[5, :, :].T, cmap=\"gray\", origin=\"lower\")\n",
    "plt.colorbar()\n",
    "\n",
    "plt.savefig(\n",
    "    os.path.join(figures, \"sub-04-4-4-5-_-_-orig.eps\"),\n",
    "    bbox_inches=\"tight\")"
   ]
  },
  {
   "cell_type": "markdown",
   "metadata": {},
   "source": [
    "## Test (predicted)"
   ]
  },
  {
   "cell_type": "code",
   "execution_count": 158,
   "metadata": {},
   "outputs": [
    {
     "data": {
      "image/png": "[encoded data removed]",
      "text/plain": [
       "<Figure size 432x288 with 2 Axes>"
      ]
     },
     "metadata": {
      "needs_background": "light"
     },
     "output_type": "display_data"
    }
   ],
   "source": [
    "fmri_predicted_vector = Y_test_predicted.T[10]\n",
    "fmri_predicted = fmri_predicted_vector.reshape((d1, d2, d3))\n",
    "\n",
    "plt.imshow(fmri_predicted[5, :, :].T, cmap=\"gray\", origin=\"lower\")\n",
    "plt.colorbar()\n",
    "\n",
    "plt.savefig(\n",
    "    os.path.join(figures, \"sub-04-4-4-5-_-_-pred.eps\"),\n",
    "    bbox_inches=\"tight\")"
   ]
  },
  {
   "cell_type": "markdown",
   "metadata": {},
   "source": [
    "### Pruning"
   ]
  },
  {
   "cell_type": "code",
   "execution_count": 145,
   "metadata": {},
   "outputs": [
    {
     "data": {
      "text/plain": [
       "<matplotlib.colorbar.Colorbar at 0x22f2de3e2e0>"
      ]
     },
     "execution_count": 145,
     "metadata": {},
     "output_type": "execute_result"
    },
    {
     "data": {
      "image/png": "[encoded data removed]",
      "text/plain": [
       "<Figure size 432x288 with 2 Axes>"
      ]
     },
     "metadata": {
      "needs_background": "light"
     },
     "output_type": "display_data"
    }
   ],
   "source": [
    "mask_min = fmri_predicted < 0\n",
    "mask_max = fmri_predicted > 0.15\n",
    "mask_mm = mask_min + mask_max\n",
    "\n",
    "fmri_predicted_pruning = np.zeros_like(fmri_predicted)\n",
    "fmri_predicted_pruning[~mask_mm] = fmri_predicted[~mask_mm]\n",
    "fmri_predicted_pruning[mask_min] = 0\n",
    "fmri_predicted_pruning[mask_max] = 0.15\n",
    "\n",
    "plt.imshow(fmri_predicted_pruning[5, :, :].T, cmap=\"gray\", origin=\"lower\")\n",
    "plt.colorbar()"
   ]
  },
  {
   "cell_type": "markdown",
   "metadata": {},
   "source": [
    "### Gauss"
   ]
  },
  {
   "cell_type": "code",
   "execution_count": 146,
   "metadata": {},
   "outputs": [
    {
     "data": {
      "text/plain": [
       "<matplotlib.colorbar.Colorbar at 0x22f2df0f4c0>"
      ]
     },
     "execution_count": 146,
     "metadata": {},
     "output_type": "execute_result"
    },
    {
     "data": {
      "image/png": "[encoded data removed]",
      "text/plain": [
       "<Figure size 432x288 with 2 Axes>"
      ]
     },
     "metadata": {
      "needs_background": "light"
     },
     "output_type": "display_data"
    }
   ],
   "source": [
    "sigma = 0.7\n",
    "\n",
    "fmri_predicted_gauss = gaussian_filter(fmri_predicted, sigma=sigma)\n",
    "\n",
    "plt.imshow(fmri_predicted_gauss[5, :, :].T, cmap=\"gray\", origin=\"lower\")\n",
    "plt.colorbar()"
   ]
  },
  {
   "cell_type": "markdown",
   "metadata": {},
   "source": [
    "### Pruning + Gauss"
   ]
  },
  {
   "cell_type": "code",
   "execution_count": 159,
   "metadata": {},
   "outputs": [
    {
     "data": {
      "image/png": "[encoded data removed]",
      "text/plain": [
       "<Figure size 432x288 with 2 Axes>"
      ]
     },
     "metadata": {
      "needs_background": "light"
     },
     "output_type": "display_data"
    }
   ],
   "source": [
    "sigma = 0.6\n",
    "\n",
    "fmri_predicted_pruning_gauss = gaussian_filter(fmri_predicted_pruning, sigma=sigma)\n",
    "\n",
    "plt.imshow(fmri_predicted_pruning_gauss[5, :, :].T, cmap=\"gray\", origin=\"lower\")\n",
    "plt.colorbar()\n",
    "\n",
    "plt.savefig(\n",
    "    os.path.join(figures, \"sub-04-4-4-5-_-_-pred-pg.eps\"),\n",
    "    bbox_inches=\"tight\")"
   ]
  },
  {
   "cell_type": "markdown",
   "metadata": {},
   "source": [
    "### Averaging over adjacent voxels"
   ]
  },
  {
   "cell_type": "code",
   "execution_count": 59,
   "metadata": {},
   "outputs": [
    {
     "ename": "IndexError",
     "evalue": "index 10 is out of bounds for axis 0 with size 10",
     "output_type": "error",
     "traceback": [
      "\u001b[1;31m---------------------------------------------------------------------------\u001b[0m",
      "\u001b[1;31mIndexError\u001b[0m                                Traceback (most recent call last)",
      "\u001b[1;32m<ipython-input-59-162611c43bd6>\u001b[0m in \u001b[0;36m<module>\u001b[1;34m\u001b[0m\n\u001b[0;32m      6\u001b[0m \u001b[0mfmri_predicted_average\u001b[0m\u001b[1;33m[\u001b[0m\u001b[1;33m~\u001b[0m\u001b[0mmask_mm\u001b[0m\u001b[1;33m]\u001b[0m \u001b[1;33m=\u001b[0m \u001b[0mfmri_predicted\u001b[0m\u001b[1;33m[\u001b[0m\u001b[1;33m~\u001b[0m\u001b[0mmask_mm\u001b[0m\u001b[1;33m]\u001b[0m\u001b[1;33m\u001b[0m\u001b[1;33m\u001b[0m\u001b[0m\n\u001b[0;32m      7\u001b[0m \u001b[1;33m\u001b[0m\u001b[0m\n\u001b[1;32m----> 8\u001b[1;33m \u001b[0mplt\u001b[0m\u001b[1;33m.\u001b[0m\u001b[0mimshow\u001b[0m\u001b[1;33m(\u001b[0m\u001b[0mfmri_predicted_average\u001b[0m\u001b[1;33m[\u001b[0m\u001b[1;36m10\u001b[0m\u001b[1;33m,\u001b[0m \u001b[1;33m:\u001b[0m\u001b[1;33m,\u001b[0m \u001b[1;33m:\u001b[0m\u001b[1;33m]\u001b[0m\u001b[1;33m.\u001b[0m\u001b[0mT\u001b[0m\u001b[1;33m,\u001b[0m \u001b[0mcmap\u001b[0m\u001b[1;33m=\u001b[0m\u001b[1;34m\"gray\"\u001b[0m\u001b[1;33m,\u001b[0m \u001b[0morigin\u001b[0m\u001b[1;33m=\u001b[0m\u001b[1;34m\"lower\"\u001b[0m\u001b[1;33m)\u001b[0m\u001b[1;33m\u001b[0m\u001b[1;33m\u001b[0m\u001b[0m\n\u001b[0m\u001b[0;32m      9\u001b[0m \u001b[0mplt\u001b[0m\u001b[1;33m.\u001b[0m\u001b[0mcolorbar\u001b[0m\u001b[1;33m(\u001b[0m\u001b[1;33m)\u001b[0m\u001b[1;33m\u001b[0m\u001b[1;33m\u001b[0m\u001b[0m\n",
      "\u001b[1;31mIndexError\u001b[0m: index 10 is out of bounds for axis 0 with size 10"
     ]
    }
   ],
   "source": [
    "# усредняющее ядро 3x3x3\n",
    "kernel = np.ones((3, 3, 3)) / 27\n",
    "\n",
    "fmri_predicted_average = np.zeros_like(fmri_predicted)\n",
    "fmri_predicted_average[mask_mm] = convolve(fmri_predicted, kernel, mode='same')[mask_mm]\n",
    "fmri_predicted_average[~mask_mm] = fmri_predicted[~mask_mm]\n",
    "\n",
    "plt.imshow(fmri_predicted_average[10, :, :].T, cmap=\"gray\", origin=\"lower\")\n",
    "plt.colorbar()"
   ]
  },
  {
   "cell_type": "markdown",
   "metadata": {},
   "source": [
    "### Median filter"
   ]
  },
  {
   "cell_type": "code",
   "execution_count": 60,
   "metadata": {},
   "outputs": [
    {
     "ename": "IndexError",
     "evalue": "index 10 is out of bounds for axis 0 with size 10",
     "output_type": "error",
     "traceback": [
      "\u001b[1;31m---------------------------------------------------------------------------\u001b[0m",
      "\u001b[1;31mIndexError\u001b[0m                                Traceback (most recent call last)",
      "\u001b[1;32m<ipython-input-60-5e3e9588decf>\u001b[0m in \u001b[0;36m<module>\u001b[1;34m\u001b[0m\n\u001b[0;32m      2\u001b[0m \u001b[0mfmri_predicted_median\u001b[0m \u001b[1;33m=\u001b[0m \u001b[0msignal\u001b[0m\u001b[1;33m.\u001b[0m\u001b[0mmedfilt\u001b[0m\u001b[1;33m(\u001b[0m\u001b[0mfmri_predicted\u001b[0m\u001b[1;33m,\u001b[0m \u001b[0mkernel_size\u001b[0m\u001b[1;33m=\u001b[0m\u001b[1;36m3\u001b[0m\u001b[1;33m)\u001b[0m\u001b[1;33m\u001b[0m\u001b[1;33m\u001b[0m\u001b[0m\n\u001b[0;32m      3\u001b[0m \u001b[1;33m\u001b[0m\u001b[0m\n\u001b[1;32m----> 4\u001b[1;33m \u001b[0mplt\u001b[0m\u001b[1;33m.\u001b[0m\u001b[0mimshow\u001b[0m\u001b[1;33m(\u001b[0m\u001b[0mfmri_predicted_median\u001b[0m\u001b[1;33m[\u001b[0m\u001b[1;36m10\u001b[0m\u001b[1;33m,\u001b[0m \u001b[1;33m:\u001b[0m\u001b[1;33m,\u001b[0m \u001b[1;33m:\u001b[0m\u001b[1;33m]\u001b[0m\u001b[1;33m.\u001b[0m\u001b[0mT\u001b[0m\u001b[1;33m,\u001b[0m \u001b[0mcmap\u001b[0m\u001b[1;33m=\u001b[0m\u001b[1;34m\"gray\"\u001b[0m\u001b[1;33m,\u001b[0m \u001b[0morigin\u001b[0m\u001b[1;33m=\u001b[0m\u001b[1;34m\"lower\"\u001b[0m\u001b[1;33m)\u001b[0m\u001b[1;33m\u001b[0m\u001b[1;33m\u001b[0m\u001b[0m\n\u001b[0m\u001b[0;32m      5\u001b[0m \u001b[0mplt\u001b[0m\u001b[1;33m.\u001b[0m\u001b[0mcolorbar\u001b[0m\u001b[1;33m(\u001b[0m\u001b[1;33m)\u001b[0m\u001b[1;33m\u001b[0m\u001b[1;33m\u001b[0m\u001b[0m\n",
      "\u001b[1;31mIndexError\u001b[0m: index 10 is out of bounds for axis 0 with size 10"
     ]
    }
   ],
   "source": [
    "# применим медианный фильтр с размером окна 3x3x3\n",
    "fmri_predicted_median = signal.medfilt(fmri_predicted, kernel_size=3)\n",
    "\n",
    "plt.imshow(fmri_predicted_median[10, :, :].T, cmap=\"gray\", origin=\"lower\")\n",
    "plt.colorbar()"
   ]
  },
  {
   "cell_type": "markdown",
   "metadata": {},
   "source": [
    "### Pruning + Median filter"
   ]
  },
  {
   "cell_type": "code",
   "execution_count": 1247,
   "metadata": {},
   "outputs": [
    {
     "data": {
      "text/plain": [
       "<matplotlib.colorbar.Colorbar at 0x1e806b089a0>"
      ]
     },
     "execution_count": 1247,
     "metadata": {},
     "output_type": "execute_result"
    },
    {
     "data": {
      "image/png": "[encoded data removed]",
      "text/plain": [
       "<Figure size 640x480 with 2 Axes>"
      ]
     },
     "metadata": {},
     "output_type": "display_data"
    }
   ],
   "source": [
    "fmri_predicted_pruning_median = signal.medfilt(fmri_predicted_pruning, kernel_size=3)\n",
    "\n",
    "plt.imshow(fmri_predicted_pruning_median[10, :, :].T, cmap=\"gray\", origin=\"lower\")\n",
    "plt.colorbar()"
   ]
  }
 ],
 "metadata": {
  "kernelspec": {
   "display_name": "Python 3",
   "language": "python",
   "name": "python3"
  },
  "language_info": {
   "codemirror_mode": {
    "name": "ipython",
    "version": 3
   },
   "file_extension": ".py",
   "mimetype": "text/x-python",
   "name": "python",
   "nbconvert_exporter": "python",
   "pygments_lexer": "ipython3",
   "version": "3.8.8"
  }
 },
 "nbformat": 4,
 "nbformat_minor": 2
}
