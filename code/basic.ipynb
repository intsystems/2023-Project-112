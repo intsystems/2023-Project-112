{
 "cells": [
  {
   "cell_type": "markdown",
   "metadata": {},
   "source": [
    "# Импорт библиотек"
   ]
  },
  {
   "cell_type": "code",
<<<<<<< Updated upstream
   "execution_count": 2,
=======
   "execution_count": 54,
>>>>>>> Stashed changes
   "metadata": {},
   "outputs": [],
   "source": [
    "import numpy as np\n",
    "import matplotlib.pyplot as plt\n",
    "import os\n",
    "from pathlib import Path\n",
    "import nibabel as nib\n",
    "import torch\n",
    "import torchvision.transforms as transforms\n",
    "import cv2\n",
    "from PIL import Image\n",
    "from sklearn.linear_model import LinearRegression\n",
    "from scipy.ndimage import gaussian_filter\n",
    "from scipy.signal import convolve\n",
    "import scipy.signal as signal\n",
    "import random"
   ]
  },
  {
   "cell_type": "markdown",
   "metadata": {},
   "source": [
    "# Работа с данными"
   ]
  },
  {
   "cell_type": "markdown",
   "metadata": {},
   "source": [
    "## Видеоряд"
   ]
  },
  {
   "cell_type": "code",
   "execution_count": 15,
   "metadata": {},
   "outputs": [],
   "source": [
    "video_path = os.path.join(os.path.dirname(os.getcwd()), \"src\", \"Film stimulus.mp4\")"
   ]
  },
  {
   "cell_type": "code",
   "execution_count": 16,
   "metadata": {},
   "outputs": [],
   "source": [
    "def video_to_frames():\n",
    "    videocap = cv2.VideoCapture(video_path)\n",
    "    success, frame = videocap.read()\n",
    "    count = 1\n",
    "    while success:\n",
    "        cv2.imwrite(os.path.join(os.path.dirname(os.getcwd()),\n",
    "                                \"src\", \"frames\", f\"frame_{count}.jpg\"), frame)    \n",
    "        success, frame = videocap.read()\n",
    "        count += 1"
   ]
  },
  {
   "cell_type": "code",
   "execution_count": 17,
   "metadata": {},
   "outputs": [],
   "source": [
    "video_to_frames()"
   ]
  },
  {
   "cell_type": "code",
   "execution_count": 32,
   "metadata": {},
   "outputs": [
    {
     "name": "stderr",
     "output_type": "stream",
     "text": [
      "Downloading: \"https://github.com/pytorch/vision/zipball/v0.6.0\" to C:\\Users\\Чёрный господин/.cache\\torch\\hub\\v0.6.0.zip\n",
      "C:\\phyton\\lib\\site-packages\\torchvision\\models\\_utils.py:208: UserWarning: The parameter 'pretrained' is deprecated since 0.13 and may be removed in the future, please use 'weights' instead.\n",
      "  warnings.warn(\n",
      "C:\\phyton\\lib\\site-packages\\torchvision\\models\\_utils.py:223: UserWarning: Arguments other than a weight enum or `None` for 'weights' are deprecated since 0.13 and may be removed in the future. The current behavior is equivalent to passing `weights=ResNet152_Weights.IMAGENET1K_V1`. You can also use `weights=ResNet152_Weights.DEFAULT` to get the most up-to-date weights.\n",
      "  warnings.warn(msg)\n",
      "Downloading: \"https://download.pytorch.org/models/resnet152-394f9c45.pth\" to C:\\Users\\Чёрный господин/.cache\\torch\\hub\\checkpoints\\resnet152-394f9c45.pth\n"
     ]
    },
    {
     "data": {
      "application/vnd.jupyter.widget-view+json": {
       "model_id": "2dda5f10c86d41c388f9a409be602540",
       "version_major": 2,
       "version_minor": 0
      },
      "text/plain": [
       "  0%|          | 0.00/230M [00:00<?, ?B/s]"
      ]
     },
     "metadata": {},
     "output_type": "display_data"
    }
   ],
   "source": [
    "model = torch.hub.load('pytorch/vision:v0.6.0', 'resnet152', pretrained=True, verbose=False)\n",
    "\n",
    "for param in model.parameters():\n",
    "    param.requires_grad = False\n",
    "\n",
    "model.fc = torch.nn.Linear(2048, 2048)"
   ]
  },
  {
   "cell_type": "code",
   "execution_count": 21,
   "metadata": {},
   "outputs": [],
   "source": [
    "preprocess = transforms.Compose([\n",
    "    transforms.Resize(256),\n",
    "    transforms.CenterCrop(224),\n",
    "    transforms.ToTensor(),\n",
    "    transforms.Normalize(mean=[0.485, 0.456, 0.406],\n",
    "                         std=[0.229, 0.224, 0.225])\n",
    "])"
   ]
  },
  {
   "cell_type": "code",
   "execution_count": 22,
   "metadata": {},
   "outputs": [],
   "source": [
    "def frames_to_tensors():\n",
    "    for i in range(1, 9751):\n",
    "        frame_path = os.path.join(os.path.dirname(os.getcwd()), \"src\", \"frames\", f\"frame_{i}.jpg\")\n",
    "        frame = Image.open(frame_path)\n",
    "        frame_tensor = preprocess(frame)\n",
    "        frame_tensor = frame_tensor.unsqueeze(0)\n",
    "        yield frame_tensor"
   ]
  },
  {
   "cell_type": "code",
   "execution_count": 23,
   "metadata": {},
   "outputs": [],
   "source": [
    "def tensors_to_vectors():\n",
    "    for frame_tensor in frames_to_tensors():\n",
    "        # передача картинки в модель и получение выходных данных\n",
    "        with torch.no_grad():\n",
    "            output = model(frame_tensor)\n",
    "        # преобразование выходных данных в вектор\n",
    "        vector = output.numpy().flatten()\n",
    "        yield vector"
   ]
  },
  {
   "cell_type": "code",
   "execution_count": 31,
   "metadata": {},
   "outputs": [],
   "source": [
    "#vector_list = [vector for vector in tensors_to_vectors()]\n",
    "#np.save(\"vector_list\", vector_list)\n",
    "vector_list = np.load(\"vector_list.npy\")"
   ]
  },
  {
   "cell_type": "markdown",
   "metadata": {},
   "source": [
    "## Снимки фМРТ"
   ]
  },
  {
   "cell_type": "code",
   "execution_count": 24,
   "metadata": {},
   "outputs": [],
   "source": [
    "subs_with_fmri = ['04', '07', '08', '09', '11', '13', '14', '15', '16', '18',\\\n",
    "                  '22', '24', '27', '28', '29', '31', '35', '41', '43', '44',\\\n",
    "                  '45', '46', '47', '51', '52', '53', '55', '56', '60', '62']"
   ]
  },
  {
   "cell_type": "code",
   "execution_count": 25,
   "metadata": {},
   "outputs": [],
   "source": [
    "def subs_to_tensors():\n",
    "    for sub in subs_with_fmri:\n",
    "        sub_path = os.path.join(os.path.dirname(os.getcwd()), \"src\", \"ds003688-download\", f\"sub-{sub}\",\\\n",
    "                                \"ses-mri3t\", \"func\", f\"sub-{sub}_ses-mri3t_task-film_run-1_bold.nii.gz\")\n",
    "        sub_scan = nib.load(sub_path)\n",
    "        sub_data = sub_scan.get_fdata()\n",
    "        sub_tensor = torch.tensor(sub_data)\n",
    "        yield sub_tensor\n",
    "        "
   ]
  },
  {
   "cell_type": "code",
   "execution_count": 26,
   "metadata": {},
   "outputs": [],
   "source": [
    "def get_sub_tensor(nsub: str):\n",
    "    for sub, sub_tensor in zip(subs_with_fmri, subs_to_tensors()):\n",
    "        if nsub != sub:\n",
    "            continue\n",
    "        else:\n",
    "            return sub_tensor"
   ]
  },
  {
   "cell_type": "code",
   "execution_count": 27,
   "metadata": {},
   "outputs": [],
   "source": [
    "sub_tensor = next(subs_to_tensors())\n",
    "X, Y, Z, N = sub_tensor.shape\n",
    "# X = 40\n",
    "# Y = 64\n",
    "# Z = 64\n",
    "# N = 641"
   ]
  },
  {
   "cell_type": "code",
   "execution_count": 28,
   "metadata": {},
   "outputs": [],
   "source": [
    "def scans_to_tensors(nsub: str):\n",
    "    sub_tensor = get_sub_tensor(nsub)\n",
    "    for i in range(sub_tensor.shape[3]):\n",
    "        scan_tensor = sub_tensor[:, :, :, i]\n",
    "        yield scan_tensor.numpy()"
   ]
  },
  {
   "cell_type": "markdown",
   "metadata": {},
   "source": [
    "# Построение линейной модели"
   ]
  },
  {
   "cell_type": "markdown",
   "metadata": {},
   "source": [
    "## Рассмотрение конкретного испытуемого"
   ]
  },
  {
   "cell_type": "code",
   "execution_count": 29,
   "metadata": {},
   "outputs": [],
   "source": [
    "# функция, которая на вход получает\n",
    "# dt - гиперпараметр, время задержки\n",
    "# sub - номер испытуемого\n",
    "# preprocessing - индикатор того, нужно ли предобрабатывать данные\n",
    "# ptype - тип предобработки\n",
    "# compression - индикатор того, нужно ли сжатие снимка фМРТ\n",
    "# coef - во сколько раз сжимается снимок фМРТ\n",
    "# train_size - часть выборки, выделенная под train\n",
    "\n",
    "def sub_linear_prediction(dt=5, sub='04', preprocessing=True, ptype=\"normalization\",\\\n",
    "                            compression=True, coef=8, train_size=0.7):\n",
    "    # частота видео\n",
    "    nu = 25\n",
    "    # частота снимков фМРТ\n",
    "    mu = 641. / 390.\n",
    "    # размерности снимка фМРТ до сжатия\n",
    "    m, n, k = 40, 64, 64\n",
    "    # длина вектора признакового описания изображения\n",
    "    d = 2048\n",
    "    # N - количество снимков fMRI\n",
    "    N = 641 - int(mu * dt)\n",
    "    # (номер изображения, номер снимка)\n",
    "    pairs = [(int(m * nu / mu), int(mu * dt + m)) for m in range(N)]\n",
    "\n",
    "    # тензор снимка фМРТ\n",
    "    sub_tensor = get_sub_tensor(sub)\n",
    "    \n",
    "    # сжатие снимка фМРТ\n",
    "    if compression:\n",
    "        maxpool = torch.nn.MaxPool3d(kernel_size=coef, stride=coef)\n",
    "        input_tensor = sub_tensor.permute(3, 0, 1, 2)\n",
    "        output_tensor = maxpool(input_tensor).permute(1, 2, 3, 0)\n",
    "    else:\n",
    "        output_tensor = sub_tensor\n",
    "\n",
    "    d1, d2, d3, d4 = output_tensor.shape\n",
    "\n",
    "    # список тензоров снимков фМРТ\n",
    "    scans_list = [output_tensor[:, :, :, i] for i in range(output_tensor.shape[3])]\n",
    "\n",
    "    # список снимков фМРТ, развернутых в векторы\n",
    "    voxels = [scan.reshape(d1 * d2 * d3).numpy() for scan in scans_list]\n",
    "\n",
    "    # (изображение, снимок)\n",
    "    data = [(vector_list[n], voxels[k]) for n, k in pairs]\n",
    "\n",
    "    # train, test\n",
    "    l = int(train_size * d4)\n",
    "    train, test = data[:l], data[l:]\n",
    "\n",
    "    # preprocessing\n",
    "    def preprocess(v, ptype=\"normalization\"):\n",
    "        if ptype == \"normalization\":\n",
    "            return (v - v.min()) / (v.max() - v.min())\n",
    "        elif ptype == \"standardization\":\n",
    "            return (v - v.mean()) / v.std()\n",
    "        \n",
    "    if preprocessing:\n",
    "        train = [(pair[0], preprocess(pair[1], ptype)) for pair in train]\n",
    "        test = [(pair[0], preprocess(pair[1], ptype)) for pair in test]\n",
    "\n",
    "    # линейная регрессия\n",
    "    linreg = LinearRegression()\n",
    "\n",
    "    # матрица весов модели\n",
    "    W = []\n",
    "\n",
    "    X_train = np.array([pair[0] for pair in train])\n",
    "    Y_train = np.array([pair[1] for pair in train]).T\n",
    "    X_test = np.array([pair[0] for pair in test]).T\n",
    "    Y_test = np.array([pair[1] for pair in test]).T\n",
    "\n",
    "    for i in range(d1 * d2 * d3):\n",
    "        # создать столбец Y\n",
    "        Y_train_vector = Y_train[i]\n",
    "        # получить вектор w_i\n",
    "        linreg.fit(X_train, Y_train_vector)\n",
    "        w = linreg.coef_\n",
    "        # добавить его в матрицу W = [w_i], i = 0, ..., d1 * d2 * d3\n",
    "        W.append(w)\n",
    "\n",
    "    W = np.array(W)\n",
    "    \n",
    "    Y_train_predicted = W @ X_train.T\n",
    "    Y_test_predicted = W @ X_test\n",
    "\n",
    "    # усреднение по всем столбцам (снимкам фМРТ)\n",
    "    def MSE(A):\n",
    "        m, n = A.shape\n",
    "        return 1 / n * np.linalg.norm(A, \"fro\") ** 2\n",
    "    \n",
    "    MSE_train = MSE(Y_train_predicted - Y_train)\n",
    "    MSE_test = MSE(Y_test_predicted - Y_test)\n",
    "\n",
    "    # сохранение выхода в файл\n",
    "    output = np.array([MSE_train, MSE_test, Y_test, Y_test_predicted, d1, d2, d3], dtype=object)\n",
    "    output_name = f\"output-{dt}-{sub}\"\n",
    "    if preprocessing:\n",
    "        output_name = output_name + f\"-{ptype}\"\n",
    "    if compression:\n",
    "        output_name = output_name + f\"-{coef}\"\n",
    "    np.save(output_name, output, allow_pickle=True)\n",
    "\n",
    "    return output"
   ]
  },
  {
   "cell_type": "code",
   "execution_count": 30,
   "metadata": {},
   "outputs": [
    {
     "ename": "NameError",
     "evalue": "name 'vector_list' is not defined",
     "output_type": "error",
     "traceback": [
      "\u001b[1;31m---------------------------------------------------------------------------\u001b[0m",
      "\u001b[1;31mNameError\u001b[0m                                 Traceback (most recent call last)",
      "\u001b[1;32m<ipython-input-30-f65f0a926bd8>\u001b[0m in \u001b[0;36m<module>\u001b[1;34m\u001b[0m\n\u001b[1;32m----> 1\u001b[1;33m output = sub_linear_prediction(dt=4, sub='04', preprocessing=True, ptype=\"normalization\",\\\n\u001b[0m\u001b[0;32m      2\u001b[0m                                 compression=True, coef=2, train_size=0.7)\n\u001b[0;32m      3\u001b[0m \u001b[0mMSE_train\u001b[0m\u001b[1;33m,\u001b[0m \u001b[0mMSE_test\u001b[0m\u001b[1;33m,\u001b[0m \u001b[0mY_test\u001b[0m\u001b[1;33m,\u001b[0m \u001b[0mY_test_predicted\u001b[0m\u001b[1;33m,\u001b[0m \u001b[0md1\u001b[0m\u001b[1;33m,\u001b[0m \u001b[0md2\u001b[0m\u001b[1;33m,\u001b[0m \u001b[0md3\u001b[0m \u001b[1;33m=\u001b[0m \u001b[0moutput\u001b[0m\u001b[1;33m\u001b[0m\u001b[1;33m\u001b[0m\u001b[0m\n",
      "\u001b[1;32m<ipython-input-29-0d0d3489652e>\u001b[0m in \u001b[0;36msub_linear_prediction\u001b[1;34m(dt, sub, preprocessing, ptype, compression, coef, train_size)\u001b[0m\n\u001b[0;32m     43\u001b[0m \u001b[1;33m\u001b[0m\u001b[0m\n\u001b[0;32m     44\u001b[0m     \u001b[1;31m# (изображение, снимок)\u001b[0m\u001b[1;33m\u001b[0m\u001b[1;33m\u001b[0m\u001b[1;33m\u001b[0m\u001b[0m\n\u001b[1;32m---> 45\u001b[1;33m     \u001b[0mdata\u001b[0m \u001b[1;33m=\u001b[0m \u001b[1;33m[\u001b[0m\u001b[1;33m(\u001b[0m\u001b[0mvector_list\u001b[0m\u001b[1;33m[\u001b[0m\u001b[0mn\u001b[0m\u001b[1;33m]\u001b[0m\u001b[1;33m,\u001b[0m \u001b[0mvoxels\u001b[0m\u001b[1;33m[\u001b[0m\u001b[0mk\u001b[0m\u001b[1;33m]\u001b[0m\u001b[1;33m)\u001b[0m \u001b[1;32mfor\u001b[0m \u001b[0mn\u001b[0m\u001b[1;33m,\u001b[0m \u001b[0mk\u001b[0m \u001b[1;32min\u001b[0m \u001b[0mpairs\u001b[0m\u001b[1;33m]\u001b[0m\u001b[1;33m\u001b[0m\u001b[1;33m\u001b[0m\u001b[0m\n\u001b[0m\u001b[0;32m     46\u001b[0m \u001b[1;33m\u001b[0m\u001b[0m\n\u001b[0;32m     47\u001b[0m     \u001b[1;31m# train, test\u001b[0m\u001b[1;33m\u001b[0m\u001b[1;33m\u001b[0m\u001b[1;33m\u001b[0m\u001b[0m\n",
      "\u001b[1;32m<ipython-input-29-0d0d3489652e>\u001b[0m in \u001b[0;36m<listcomp>\u001b[1;34m(.0)\u001b[0m\n\u001b[0;32m     43\u001b[0m \u001b[1;33m\u001b[0m\u001b[0m\n\u001b[0;32m     44\u001b[0m     \u001b[1;31m# (изображение, снимок)\u001b[0m\u001b[1;33m\u001b[0m\u001b[1;33m\u001b[0m\u001b[1;33m\u001b[0m\u001b[0m\n\u001b[1;32m---> 45\u001b[1;33m     \u001b[0mdata\u001b[0m \u001b[1;33m=\u001b[0m \u001b[1;33m[\u001b[0m\u001b[1;33m(\u001b[0m\u001b[0mvector_list\u001b[0m\u001b[1;33m[\u001b[0m\u001b[0mn\u001b[0m\u001b[1;33m]\u001b[0m\u001b[1;33m,\u001b[0m \u001b[0mvoxels\u001b[0m\u001b[1;33m[\u001b[0m\u001b[0mk\u001b[0m\u001b[1;33m]\u001b[0m\u001b[1;33m)\u001b[0m \u001b[1;32mfor\u001b[0m \u001b[0mn\u001b[0m\u001b[1;33m,\u001b[0m \u001b[0mk\u001b[0m \u001b[1;32min\u001b[0m \u001b[0mpairs\u001b[0m\u001b[1;33m]\u001b[0m\u001b[1;33m\u001b[0m\u001b[1;33m\u001b[0m\u001b[0m\n\u001b[0m\u001b[0;32m     46\u001b[0m \u001b[1;33m\u001b[0m\u001b[0m\n\u001b[0;32m     47\u001b[0m     \u001b[1;31m# train, test\u001b[0m\u001b[1;33m\u001b[0m\u001b[1;33m\u001b[0m\u001b[1;33m\u001b[0m\u001b[0m\n",
      "\u001b[1;31mNameError\u001b[0m: name 'vector_list' is not defined"
     ]
    }
   ],
   "source": [
    "output = sub_linear_prediction(dt=4, sub='04', preprocessing=True, ptype=\"normalization\",\\\n",
    "                                compression=True, coef=2, train_size=0.7)\n",
    "MSE_train, MSE_test, Y_test, Y_test_predicted, d1, d2, d3 = output"
   ]
  },
  {
   "cell_type": "code",
<<<<<<< Updated upstream
   "execution_count": 33,
=======
   "execution_count": 27,
>>>>>>> Stashed changes
   "metadata": {},
   "outputs": [],
   "source": [
    "output = np.load(\"output-4-04-normalization-4.npy\", allow_pickle=True)\n",
    "MSE_train, MSE_test, Y_test, Y_test_predicted, d1, d2, d3 = output"
   ]
  },
  {
   "cell_type": "code",
<<<<<<< Updated upstream
   "execution_count": 34,
=======
   "execution_count": 28,
>>>>>>> Stashed changes
   "metadata": {},
   "outputs": [
    {
     "name": "stdout",
     "output_type": "stream",
     "text": [
      "MSE_train = 253.02, MSE_test = 259.92\n"
     ]
    }
   ],
   "source": [
    "print(f\"MSE_train = {MSE_train:.2f}, MSE_test = {MSE_test:.2f}\")"
   ]
  },
  {
   "cell_type": "markdown",
   "metadata": {},
   "source": [
    "## Зависимость MSE на тестовой выборке от гиперпараметра $\\Delta t$"
   ]
  },
  {
   "cell_type": "code",
   "execution_count": 35,
   "metadata": {},
   "outputs": [],
   "source": [
    "t = [2, 2.5, 3, 3.5, 4, 4.5, 5, 5.5, 6, 6.5, 7, 7.5]\n",
    "mse = []\n",
    "\n",
    "for dt in t:\n",
    "    output = np.load(f\"output-{dt}-04-normalization-4.npy\", allow_pickle=True)\n",
    "    MSE_test = output[1]\n",
    "    mse.append(MSE_test)"
   ]
  },
  {
   "cell_type": "code",
   "execution_count": 36,
   "metadata": {},
   "outputs": [
    {
     "name": "stderr",
     "output_type": "stream",
     "text": [
      "The PostScript backend does not support transparency; partially transparent artists will be rendered opaque.\n"
     ]
    },
    {
     "data": {
      "image/png": "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\n",
      "text/plain": [
       "<Figure size 432x288 with 1 Axes>"
      ]
     },
     "metadata": {
      "needs_background": "light"
     },
     "output_type": "display_data"
    }
   ],
   "source": [
    "plt.rcParams.update({'font.size': 12})\n",
    "plt.rc(\"font\", family='serif')\n",
    "\n",
    "plt.plot(t, mse, marker='o', color=\"blue\")\n",
    "#plt.title(\"График зависимости MSE($\\Delta t$)\")\n",
    "plt.xlabel(\"Время задержки $\\Delta t$, с\")\n",
    "plt.ylabel(\"MSE\")\n",
    "plt.grid(alpha=0.2)\n",
    "\n",
    "figures = \"../figures\"\n",
    "plt.savefig(\n",
    "    os.path.join(figures, \"MSE_dt.eps\"),\n",
    "    bbox_inches=\"tight\")"
   ]
  },
  {
   "cell_type": "markdown",
   "metadata": {},
   "source": [
    "## Срезы истинного и восстановленного снимков "
   ]
  },
  {
   "cell_type": "code",
<<<<<<< Updated upstream
   "execution_count": 156,
   "metadata": {},
   "outputs": [
    {
     "data": {
      "image/png": "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\n",
      "text/plain": [
       "<Figure size 432x288 with 2 Axes>"
      ]
     },
     "metadata": {
      "needs_background": "light"
     },
     "output_type": "display_data"
    }
   ],
   "source": [
    "fmri_test_vector = Y_test.T[10]\n",
    "fmri_test = fmri_test_vector.reshape((d1, d2, d3))\n",
    "\n",
    "plt.imshow(fmri_test[5, :, :].T, cmap=\"gray\", origin=\"lower\")\n",
    "plt.colorbar()\n",
    "\n",
    "plt.savefig(\n",
    "    os.path.join(figures, \"sub-04-4-4-5-_-_-orig.eps\"),\n",
    "    bbox_inches=\"tight\")"
   ]
  },
  {
   "cell_type": "markdown",
   "metadata": {},
   "source": [
    "## Test (predicted)"
=======
   "execution_count": 74,
   "metadata": {},
   "outputs": [],
   "source": [
    "def get_scan_slices(\n",
    "        dt,\n",
    "        sub,\n",
    "        coef,\n",
    "        output,\n",
    "        scan_number = 0,\n",
    "        dim = 0,\n",
    "        slice_number = 0,\n",
    "        lbound = 0,\n",
    "        lvalue = 0,\n",
    "        hbound = 0,\n",
    "        hvalue = 0,\n",
    "        sigma = 0.5):\n",
    "    \n",
    "    MSE_train, MSE_test, Y_test, Y_test_predicted, d1, d2, d3 = output\n",
    "    \n",
    "    fmri_test_vector = Y_test.T[scan_number]\n",
    "    fmri_test = fmri_test_vector.reshape((d1, d2, d3))\n",
    "\n",
    "    fmri_predicted_vector = Y_test_predicted.T[scan_number]\n",
    "    fmri_predicted = fmri_predicted_vector.reshape((d1, d2, d3))\n",
    "\n",
    "    mask_min = fmri_predicted < lbound\n",
    "    mask_max = fmri_predicted > hbound\n",
    "    mask_mm = mask_min + mask_max\n",
    "    fmri_predicted_pruning = np.zeros_like(fmri_predicted)\n",
    "    fmri_predicted_pruning[~mask_mm] = fmri_predicted[~mask_mm]\n",
    "    fmri_predicted_pruning[mask_min] = lvalue\n",
    "    fmri_predicted_pruning[mask_max] = hvalue\n",
    "\n",
    "    fmri_predicted_gauss = gaussian_filter(fmri_predicted, sigma=sigma)\n",
    "\n",
    "    fmri_predicted_pruning_gauss = gaussian_filter(fmri_predicted_pruning, sigma=sigma)\n",
    "\n",
    "    slices = [':', ':', ':']\n",
    "    if dim == 0:\n",
    "        slices[0] = slice_number\n",
    "        slice_orig_image = fmri_test[slice_number, :, :].T\n",
    "        orig_name = f\"sub-{dt}-{sub}-{coef}-{slice_number}-_-_-orig.pdf\"\n",
    "        slice_pred_image = fmri_predicted[slice_number, :, :].T\n",
    "        pred_name = f\"sub-{dt}-{sub}-{coef}-{slice_number}-_-_-pred.pdf\"\n",
    "        slice_pred_p_image = fmri_predicted_pruning[slice_number, :, :].T\n",
    "        slice_pred_g_image = fmri_predicted_gauss[slice_number, :, :].T\n",
    "        slice_pred_pg_image = fmri_predicted_pruning_gauss[slice_number, :, :].T\n",
    "        pred_pg_name = f\"sub-{dt}-{sub}-{coef}-{slice_number}-_-_-pred-pg.pdf\"\n",
    "    elif dim == 1:\n",
    "        slices[1] = slice_number\n",
    "        slice_orig_image = fmri_test[:, slice_number, :].T\n",
    "        orig_name = f\"sub-{dt}-{sub}-{coef}-_-{slice_number}-_-orig.pdf\"\n",
    "        slice_pred_image = fmri_test[:, slice_number, :].T\n",
    "        pred_name = f\"sub-{dt}-{sub}-{coef}-_-{slice_number}-_-pred.pdf\"\n",
    "        slice_pred_p_image = fmri_predicted_pruning[:, slice_number, :].T\n",
    "        slice_pred_g_image = fmri_predicted_gauss[:, slice_number, :].T\n",
    "        slice_pred_pg_image = fmri_predicted_pruning_gauss[:, slice_number, :].T\n",
    "        pred_pg_name = f\"sub-{dt}-{sub}-{coef}-_-{slice_number}-_-pred-pg.pdf\"\n",
    "    elif dim == 2:\n",
    "        slices[2] = slice_number\n",
    "        slice_orig_image = fmri_test[:, :, slice_number].T\n",
    "        orig_name = f\"sub-{dt}-{sub}-{coef}-_-_-{slice_number}-orig.pdf\"\n",
    "        slice_pred_image = fmri_test[:, :, slice_number].T\n",
    "        pred_name = f\"sub-{dt}-{sub}-{coef}-_-_-{slice_number}-pred.pdf\"\n",
    "        slice_pred_p_image = fmri_predicted_pruning[:, :, slice_number].T\n",
    "        slice_pred_g_image = fmri_predicted_gauss[:, :, slice_number].T\n",
    "        slice_pred_pg_image = fmri_predicted_pruning_gauss[:, :, slice_number].T\n",
    "        pred_pg_name = f\"sub-{dt}-{sub}-{coef}-_-_-{slice_number}-pred-pg.pdf\"\n",
    "\n",
    "    folder_path = os.path.join(os.path.dirname(os.getcwd()), \"figures\", f\"sub-{dt}-{sub}-{coef}\")\n",
    "    if not os.path.exists(folder_path):\n",
    "        os.makedirs(folder_path)\n",
    "\n",
    "    os.chmod(folder_path, 0o400)\n",
    "\n",
    "    print(\"INFORMATION:\")\n",
    "    print(f\"dt = {dt}, sub = {sub}, coef = {coef}, slices = {slices}\\n\")\n",
    "    print(\"ORIGINAL\")\n",
    "    plt.imshow(slice_orig_image, cmap=\"gray\", origin=\"lower\")\n",
    "    plt.colorbar()\n",
    "    plt.savefig(\n",
    "            os.path.join(os.path.dirname(os.getcwd()), \"figures\", f\"sub-{dt}-{sub}-{coef}\", orig_name),\n",
    "            bbox_inches=\"tight\")\n",
    "    plt.show()\n",
    "    \n",
    "    print(\"PREDICTED\")\n",
    "    plt.imshow(slice_pred_image, cmap=\"gray\", origin=\"lower\")\n",
    "    plt.colorbar()\n",
    "    plt.savefig(\n",
    "            os.path.join(os.path.dirname(os.getcwd()), \"figures\", f\"sub-{dt}-{sub}-{coef}\", pred_name),\n",
    "            bbox_inches=\"tight\")\n",
    "    plt.show()\n",
    "    \n",
    "    print(\"PRUNING\")\n",
    "    plt.imshow(slice_pred_p_image, cmap=\"gray\", origin=\"lower\")\n",
    "    plt.colorbar()\n",
    "    plt.show()\n",
    "\n",
    "    print(\"GAUSS\")\n",
    "    plt.imshow(slice_pred_g_image, cmap=\"gray\", origin=\"lower\")\n",
    "    plt.colorbar()\n",
    "    plt.show()\n",
    "\n",
    "    print(\"PRUNING + GAUSS\")\n",
    "    plt.imshow(slice_pred_pg_image, cmap=\"gray\", origin=\"lower\")\n",
    "    plt.colorbar()\n",
    "    plt.savefig(\n",
    "            os.path.join(os.path.dirname(os.getcwd()), \"figures\", f\"sub-{dt}-{sub}-{coef}\", pred_pg_name),\n",
    "            bbox_inches=\"tight\")\n",
    "    plt.show()"
>>>>>>> Stashed changes
   ]
  },
  {
   "cell_type": "code",
<<<<<<< Updated upstream
   "execution_count": 158,
   "metadata": {},
   "outputs": [
    {
     "data": {
      "image/png": "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\n",
      "text/plain": [
       "<Figure size 432x288 with 2 Axes>"
      ]
     },
     "metadata": {
      "needs_background": "light"
=======
   "execution_count": 76,
   "metadata": {},
   "outputs": [
    {
     "name": "stdout",
     "output_type": "stream",
     "text": [
      "INFORMATION:\n",
      "dt = 4, sub = 04, coef = 4, slices = [5, ':', ':']\n",
      "\n",
      "ORIGINAL\n"
     ]
    },
    {
     "data": {
      "image/png": "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",
      "text/plain": [
       "<Figure size 640x480 with 2 Axes>"
      ]
>>>>>>> Stashed changes
     },
     "output_type": "display_data"
<<<<<<< Updated upstream
    }
   ],
   "source": [
    "fmri_predicted_vector = Y_test_predicted.T[10]\n",
    "fmri_predicted = fmri_predicted_vector.reshape((d1, d2, d3))\n",
    "\n",
    "plt.imshow(fmri_predicted[5, :, :].T, cmap=\"gray\", origin=\"lower\")\n",
    "plt.colorbar()\n",
    "\n",
    "plt.savefig(\n",
    "    os.path.join(figures, \"sub-04-4-4-5-_-_-pred.eps\"),\n",
    "    bbox_inches=\"tight\")"
   ]
  },
  {
   "cell_type": "markdown",
   "metadata": {},
   "source": [
    "### Pruning"
   ]
  },
  {
   "cell_type": "code",
   "execution_count": 145,
   "metadata": {},
   "outputs": [
    {
     "data": {
      "text/plain": [
       "<matplotlib.colorbar.Colorbar at 0x22f2de3e2e0>"
      ]
     },
     "execution_count": 145,
     "metadata": {},
     "output_type": "execute_result"
    },
    {
     "data": {
      "image/png": "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\n",
=======
    },
    {
     "name": "stdout",
     "output_type": "stream",
     "text": [
      "PREDICTED\n"
     ]
    },
    {
     "data": {
      "image/png": "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",
>>>>>>> Stashed changes
      "text/plain": [
       "<Figure size 432x288 with 2 Axes>"
      ]
     },
     "metadata": {
      "needs_background": "light"
     },
     "output_type": "display_data"
<<<<<<< Updated upstream
    }
   ],
   "source": [
    "mask_min = fmri_predicted < 0\n",
    "mask_max = fmri_predicted > 0.15\n",
    "mask_mm = mask_min + mask_max\n",
    "\n",
    "fmri_predicted_pruning = np.zeros_like(fmri_predicted)\n",
    "fmri_predicted_pruning[~mask_mm] = fmri_predicted[~mask_mm]\n",
    "fmri_predicted_pruning[mask_min] = 0\n",
    "fmri_predicted_pruning[mask_max] = 0.15\n",
    "\n",
    "plt.imshow(fmri_predicted_pruning[5, :, :].T, cmap=\"gray\", origin=\"lower\")\n",
    "plt.colorbar()"
   ]
  },
  {
   "cell_type": "markdown",
   "metadata": {},
   "source": [
    "### Gauss"
   ]
  },
  {
   "cell_type": "code",
   "execution_count": 146,
   "metadata": {},
   "outputs": [
    {
     "data": {
      "text/plain": [
       "<matplotlib.colorbar.Colorbar at 0x22f2df0f4c0>"
      ]
     },
     "execution_count": 146,
     "metadata": {},
     "output_type": "execute_result"
    },
    {
     "data": {
      "image/png": "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\n",
=======
    },
    {
     "name": "stdout",
     "output_type": "stream",
     "text": [
      "PRUNING\n"
     ]
    },
    {
     "data": {
      "image/png": "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",
>>>>>>> Stashed changes
      "text/plain": [
       "<Figure size 432x288 with 2 Axes>"
      ]
     },
     "metadata": {
      "needs_background": "light"
     },
     "output_type": "display_data"
<<<<<<< Updated upstream
    }
   ],
   "source": [
    "sigma = 0.7\n",
    "\n",
    "fmri_predicted_gauss = gaussian_filter(fmri_predicted, sigma=sigma)\n",
    "\n",
    "plt.imshow(fmri_predicted_gauss[5, :, :].T, cmap=\"gray\", origin=\"lower\")\n",
    "plt.colorbar()"
   ]
  },
  {
   "cell_type": "markdown",
   "metadata": {},
   "source": [
    "### Pruning + Gauss"
   ]
  },
  {
   "cell_type": "code",
   "execution_count": 159,
   "metadata": {},
   "outputs": [
    {
     "data": {
      "image/png": "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\n",
      "text/plain": [
       "<Figure size 432x288 with 2 Axes>"
      ]
     },
     "metadata": {
      "needs_background": "light"
     },
     "output_type": "display_data"
    }
   ],
   "source": [
    "sigma = 0.6\n",
    "\n",
    "fmri_predicted_pruning_gauss = gaussian_filter(fmri_predicted_pruning, sigma=sigma)\n",
    "\n",
    "plt.imshow(fmri_predicted_pruning_gauss[5, :, :].T, cmap=\"gray\", origin=\"lower\")\n",
    "plt.colorbar()\n",
    "\n",
    "plt.savefig(\n",
    "    os.path.join(figures, \"sub-04-4-4-5-_-_-pred-pg.eps\"),\n",
    "    bbox_inches=\"tight\")"
   ]
  },
  {
   "cell_type": "markdown",
   "metadata": {},
   "source": [
    "### Averaging over adjacent voxels"
   ]
  },
  {
   "cell_type": "code",
   "execution_count": 59,
   "metadata": {},
   "outputs": [
    {
     "ename": "IndexError",
     "evalue": "index 10 is out of bounds for axis 0 with size 10",
     "output_type": "error",
     "traceback": [
      "\u001b[1;31m---------------------------------------------------------------------------\u001b[0m",
      "\u001b[1;31mIndexError\u001b[0m                                Traceback (most recent call last)",
      "\u001b[1;32m<ipython-input-59-162611c43bd6>\u001b[0m in \u001b[0;36m<module>\u001b[1;34m\u001b[0m\n\u001b[0;32m      6\u001b[0m \u001b[0mfmri_predicted_average\u001b[0m\u001b[1;33m[\u001b[0m\u001b[1;33m~\u001b[0m\u001b[0mmask_mm\u001b[0m\u001b[1;33m]\u001b[0m \u001b[1;33m=\u001b[0m \u001b[0mfmri_predicted\u001b[0m\u001b[1;33m[\u001b[0m\u001b[1;33m~\u001b[0m\u001b[0mmask_mm\u001b[0m\u001b[1;33m]\u001b[0m\u001b[1;33m\u001b[0m\u001b[1;33m\u001b[0m\u001b[0m\n\u001b[0;32m      7\u001b[0m \u001b[1;33m\u001b[0m\u001b[0m\n\u001b[1;32m----> 8\u001b[1;33m \u001b[0mplt\u001b[0m\u001b[1;33m.\u001b[0m\u001b[0mimshow\u001b[0m\u001b[1;33m(\u001b[0m\u001b[0mfmri_predicted_average\u001b[0m\u001b[1;33m[\u001b[0m\u001b[1;36m10\u001b[0m\u001b[1;33m,\u001b[0m \u001b[1;33m:\u001b[0m\u001b[1;33m,\u001b[0m \u001b[1;33m:\u001b[0m\u001b[1;33m]\u001b[0m\u001b[1;33m.\u001b[0m\u001b[0mT\u001b[0m\u001b[1;33m,\u001b[0m \u001b[0mcmap\u001b[0m\u001b[1;33m=\u001b[0m\u001b[1;34m\"gray\"\u001b[0m\u001b[1;33m,\u001b[0m \u001b[0morigin\u001b[0m\u001b[1;33m=\u001b[0m\u001b[1;34m\"lower\"\u001b[0m\u001b[1;33m)\u001b[0m\u001b[1;33m\u001b[0m\u001b[1;33m\u001b[0m\u001b[0m\n\u001b[0m\u001b[0;32m      9\u001b[0m \u001b[0mplt\u001b[0m\u001b[1;33m.\u001b[0m\u001b[0mcolorbar\u001b[0m\u001b[1;33m(\u001b[0m\u001b[1;33m)\u001b[0m\u001b[1;33m\u001b[0m\u001b[1;33m\u001b[0m\u001b[0m\n",
      "\u001b[1;31mIndexError\u001b[0m: index 10 is out of bounds for axis 0 with size 10"
     ]
    }
   ],
   "source": [
    "# усредняющее ядро 3x3x3\n",
    "kernel = np.ones((3, 3, 3)) / 27\n",
    "\n",
    "fmri_predicted_average = np.zeros_like(fmri_predicted)\n",
    "fmri_predicted_average[mask_mm] = convolve(fmri_predicted, kernel, mode='same')[mask_mm]\n",
    "fmri_predicted_average[~mask_mm] = fmri_predicted[~mask_mm]\n",
    "\n",
    "plt.imshow(fmri_predicted_average[10, :, :].T, cmap=\"gray\", origin=\"lower\")\n",
    "plt.colorbar()"
   ]
  },
  {
   "cell_type": "markdown",
   "metadata": {},
   "source": [
    "### Median filter"
   ]
  },
  {
   "cell_type": "code",
   "execution_count": 60,
   "metadata": {},
   "outputs": [
    {
     "ename": "IndexError",
     "evalue": "index 10 is out of bounds for axis 0 with size 10",
     "output_type": "error",
     "traceback": [
      "\u001b[1;31m---------------------------------------------------------------------------\u001b[0m",
      "\u001b[1;31mIndexError\u001b[0m                                Traceback (most recent call last)",
      "\u001b[1;32m<ipython-input-60-5e3e9588decf>\u001b[0m in \u001b[0;36m<module>\u001b[1;34m\u001b[0m\n\u001b[0;32m      2\u001b[0m \u001b[0mfmri_predicted_median\u001b[0m \u001b[1;33m=\u001b[0m \u001b[0msignal\u001b[0m\u001b[1;33m.\u001b[0m\u001b[0mmedfilt\u001b[0m\u001b[1;33m(\u001b[0m\u001b[0mfmri_predicted\u001b[0m\u001b[1;33m,\u001b[0m \u001b[0mkernel_size\u001b[0m\u001b[1;33m=\u001b[0m\u001b[1;36m3\u001b[0m\u001b[1;33m)\u001b[0m\u001b[1;33m\u001b[0m\u001b[1;33m\u001b[0m\u001b[0m\n\u001b[0;32m      3\u001b[0m \u001b[1;33m\u001b[0m\u001b[0m\n\u001b[1;32m----> 4\u001b[1;33m \u001b[0mplt\u001b[0m\u001b[1;33m.\u001b[0m\u001b[0mimshow\u001b[0m\u001b[1;33m(\u001b[0m\u001b[0mfmri_predicted_median\u001b[0m\u001b[1;33m[\u001b[0m\u001b[1;36m10\u001b[0m\u001b[1;33m,\u001b[0m \u001b[1;33m:\u001b[0m\u001b[1;33m,\u001b[0m \u001b[1;33m:\u001b[0m\u001b[1;33m]\u001b[0m\u001b[1;33m.\u001b[0m\u001b[0mT\u001b[0m\u001b[1;33m,\u001b[0m \u001b[0mcmap\u001b[0m\u001b[1;33m=\u001b[0m\u001b[1;34m\"gray\"\u001b[0m\u001b[1;33m,\u001b[0m \u001b[0morigin\u001b[0m\u001b[1;33m=\u001b[0m\u001b[1;34m\"lower\"\u001b[0m\u001b[1;33m)\u001b[0m\u001b[1;33m\u001b[0m\u001b[1;33m\u001b[0m\u001b[0m\n\u001b[0m\u001b[0;32m      5\u001b[0m \u001b[0mplt\u001b[0m\u001b[1;33m.\u001b[0m\u001b[0mcolorbar\u001b[0m\u001b[1;33m(\u001b[0m\u001b[1;33m)\u001b[0m\u001b[1;33m\u001b[0m\u001b[1;33m\u001b[0m\u001b[0m\n",
      "\u001b[1;31mIndexError\u001b[0m: index 10 is out of bounds for axis 0 with size 10"
     ]
    }
   ],
   "source": [
    "# применим медианный фильтр с размером окна 3x3x3\n",
    "fmri_predicted_median = signal.medfilt(fmri_predicted, kernel_size=3)\n",
    "\n",
    "plt.imshow(fmri_predicted_median[10, :, :].T, cmap=\"gray\", origin=\"lower\")\n",
    "plt.colorbar()"
   ]
  },
  {
   "cell_type": "markdown",
   "metadata": {},
   "source": [
    "### Pruning + Median filter"
   ]
  },
  {
   "cell_type": "code",
   "execution_count": 1247,
   "metadata": {},
   "outputs": [
    {
     "data": {
      "text/plain": [
       "<matplotlib.colorbar.Colorbar at 0x1e806b089a0>"
      ]
     },
     "execution_count": 1247,
     "metadata": {},
     "output_type": "execute_result"
    },
    {
     "data": {
      "image/png": "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",
      "text/plain": [
       "<Figure size 640x480 with 2 Axes>"
      ]
     },
     "metadata": {},
     "output_type": "display_data"
    }
   ],
   "source": [
    "fmri_predicted_pruning_median = signal.medfilt(fmri_predicted_pruning, kernel_size=3)\n",
    "\n",
    "plt.imshow(fmri_predicted_pruning_median[10, :, :].T, cmap=\"gray\", origin=\"lower\")\n",
    "plt.colorbar()"
=======
    },
    {
     "name": "stdout",
     "output_type": "stream",
     "text": [
      "GAUSS\n"
     ]
    },
    {
     "data": {
      "image/png": "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",
      "text/plain": [
       "<Figure size 640x480 with 2 Axes>"
      ]
     },
     "metadata": {},
     "output_type": "display_data"
    },
    {
     "name": "stdout",
     "output_type": "stream",
     "text": [
      "PRUNING + GAUSS\n"
     ]
    },
    {
     "data": {
      "image/png": "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",
      "text/plain": [
       "<Figure size 640x480 with 2 Axes>"
      ]
     },
     "metadata": {},
     "output_type": "display_data"
    }
   ],
   "source": [
    "get_scan_slices(\n",
    "        dt=4,\n",
    "        sub='04',\n",
    "        coef=4,\n",
    "        output=np.load(\"output-4-04-normalization-4.npy\", allow_pickle=True),\n",
    "        scan_number=10,\n",
    "        dim=0,\n",
    "        slice_number=5,\n",
    "        lbound=0,\n",
    "        lvalue=0,\n",
    "        hbound=0.15,\n",
    "        hvalue=0.15,\n",
    "        sigma=0.5)"
>>>>>>> Stashed changes
   ]
  }
 ],
 "metadata": {
  "kernelspec": {
   "display_name": "Python 3",
   "language": "python",
   "name": "python3"
  },
  "language_info": {
   "codemirror_mode": {
    "name": "ipython",
    "version": 3
   },
   "file_extension": ".py",
   "mimetype": "text/x-python",
   "name": "python",
   "nbconvert_exporter": "python",
   "pygments_lexer": "ipython3",
   "version": "3.8.8"
  }
 },
 "nbformat": 4,
 "nbformat_minor": 2
}
