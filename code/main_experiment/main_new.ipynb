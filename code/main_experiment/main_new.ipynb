{
 "cells": [
  {
   "cell_type": "markdown",
   "metadata": {},
   "source": [
    "# Импорт библиотек"
   ]
  },
  {
   "cell_type": "code",
   "execution_count": 55,
   "metadata": {},
   "outputs": [],
   "source": [
    "import numpy as np\n",
    "import matplotlib.pyplot as plt\n",
    "import os\n",
    "import nibabel as nib\n",
    "import torch\n",
    "import torchvision.transforms as transforms\n",
    "import cv2\n",
    "from PIL import Image\n",
    "from sklearn.linear_model import LinearRegression\n",
    "from scipy.ndimage import gaussian_filter\n",
    "from scipy.signal import convolve\n",
    "import scipy.signal as signal\n",
    "import random\n",
    "from sklearn.metrics import r2_score\n",
    "import seaborn as sns\n",
    "import pickle"
   ]
  },
  {
   "cell_type": "markdown",
   "metadata": {},
   "source": [
    "# Задание окружения"
   ]
  },
  {
   "cell_type": "code",
   "execution_count": 14,
   "metadata": {},
   "outputs": [],
   "source": [
    "figures = os.path.join(os.path.dirname(os.path.dirname(os.getcwd())), \"figures\")"
   ]
  },
  {
   "cell_type": "markdown",
   "metadata": {},
   "source": [
    "# Работа с данными"
   ]
  },
  {
   "cell_type": "markdown",
   "metadata": {},
   "source": [
    "## Видеоряд"
   ]
  },
  {
   "cell_type": "code",
   "execution_count": 15,
   "metadata": {},
   "outputs": [],
   "source": [
    "video_path = os.path.join(os.path.dirname(os.path.dirname(os.getcwd())), \"src\", \"Film stimulus.mp4\")"
   ]
  },
  {
   "cell_type": "code",
   "execution_count": 16,
   "metadata": {},
   "outputs": [],
   "source": [
    "def video_to_frames():\n",
    "    videocap = cv2.VideoCapture(video_path)\n",
    "    success, frame = videocap.read()\n",
    "    count = 1\n",
    "    while success:\n",
    "        cv2.imwrite(os.path.join(os.path.dirname(os.path.dirname(os.getcwd())),\n",
    "                                \"src\", \"frames\", f\"frame_{count}.jpg\"), frame)    \n",
    "        success, frame = videocap.read()\n",
    "        count += 1"
   ]
  },
  {
   "cell_type": "code",
   "execution_count": 17,
   "metadata": {},
   "outputs": [],
   "source": [
    "#video_to_frames()"
   ]
  },
  {
   "cell_type": "code",
   "execution_count": 18,
   "metadata": {},
   "outputs": [
    {
     "name": "stderr",
     "output_type": "stream",
     "text": [
      "c:\\Users\\kisnikser\\anaconda3\\lib\\site-packages\\torchvision\\models\\_utils.py:208: UserWarning: The parameter 'pretrained' is deprecated since 0.13 and will be removed in 0.15, please use 'weights' instead.\n",
      "  warnings.warn(\n",
      "c:\\Users\\kisnikser\\anaconda3\\lib\\site-packages\\torchvision\\models\\_utils.py:223: UserWarning: Arguments other than a weight enum or `None` for 'weights' are deprecated since 0.13 and will be removed in 0.15. The current behavior is equivalent to passing `weights=ResNet152_Weights.IMAGENET1K_V1`. You can also use `weights=ResNet152_Weights.DEFAULT` to get the most up-to-date weights.\n",
      "  warnings.warn(msg)\n"
     ]
    }
   ],
   "source": [
    "model = torch.hub.load('pytorch/vision:v0.6.0', 'resnet152', pretrained=True, verbose=False)\n",
    "\n",
    "for param in model.parameters():\n",
    "    param.requires_grad = False\n",
    "\n",
    "model.fc = torch.nn.Linear(2048, 2048)"
   ]
  },
  {
   "cell_type": "code",
   "execution_count": 19,
   "metadata": {},
   "outputs": [],
   "source": [
    "preprocess = transforms.Compose([\n",
    "    transforms.Resize(256),\n",
    "    transforms.CenterCrop(224),\n",
    "    transforms.ToTensor(),\n",
    "    transforms.Normalize(mean=[0.485, 0.456, 0.406],\n",
    "                         std=[0.229, 0.224, 0.225])\n",
    "])"
   ]
  },
  {
   "cell_type": "code",
   "execution_count": 20,
   "metadata": {},
   "outputs": [],
   "source": [
    "def frames_to_tensors():\n",
    "    for i in range(1, 9751):\n",
    "        frame_path = os.path.join(os.path.dirname(os.path.dirname(os.getcwd())), \"src\", \"frames\", f\"frame_{i}.jpg\")\n",
    "        frame = Image.open(frame_path)\n",
    "        frame_tensor = preprocess(frame)\n",
    "        frame_tensor = frame_tensor.unsqueeze(0)\n",
    "        yield frame_tensor"
   ]
  },
  {
   "cell_type": "code",
   "execution_count": 21,
   "metadata": {},
   "outputs": [],
   "source": [
    "def tensors_to_vectors():\n",
    "    for frame_tensor in frames_to_tensors():\n",
    "        # передача картинки в модель и получение выходных данных\n",
    "        with torch.no_grad():\n",
    "            output = model(frame_tensor)\n",
    "        # преобразование выходных данных в вектор\n",
    "        vector = output.numpy().flatten()\n",
    "        yield vector"
   ]
  },
  {
   "cell_type": "code",
   "execution_count": 22,
   "metadata": {},
   "outputs": [],
   "source": [
    "#vector_list = [vector for vector in tensors_to_vectors()]\n",
    "#np.save(\"vector_list\", vector_list)\n",
    "vector_list = np.load(os.path.join(os.path.dirname(os.path.dirname(os.getcwd())), \"src\", \"vector_list.npy\"))"
   ]
  },
  {
   "cell_type": "markdown",
   "metadata": {},
   "source": [
    "## Снимки фМРТ"
   ]
  },
  {
   "cell_type": "markdown",
   "metadata": {},
   "source": [
    "# Задание окружения"
   ]
  },
  {
   "cell_type": "code",
   "execution_count": 23,
   "metadata": {},
   "outputs": [],
   "source": [
    "figures = os.path.join(os.path.dirname(os.path.dirname(os.getcwd())), \"figures\")"
   ]
  },
  {
   "cell_type": "markdown",
   "metadata": {},
   "source": [
    "# Работа с данными"
   ]
  },
  {
   "cell_type": "markdown",
   "metadata": {},
   "source": [
    "## Видеоряд"
   ]
  },
  {
   "cell_type": "code",
   "execution_count": 24,
   "metadata": {},
   "outputs": [],
   "source": [
    "video_path = os.path.join(os.path.dirname(os.path.dirname(os.getcwd())), \"src\", \"Film stimulus.mp4\")"
   ]
  },
  {
   "cell_type": "code",
   "execution_count": 25,
   "metadata": {},
   "outputs": [],
   "source": [
    "def video_to_frames():\n",
    "    videocap = cv2.VideoCapture(video_path)\n",
    "    success, frame = videocap.read()\n",
    "    count = 1\n",
    "    while success:\n",
    "        cv2.imwrite(os.path.join(os.path.dirname(os.path.dirname(os.getcwd())),\n",
    "                                \"src\", \"frames\", f\"frame_{count}.jpg\"), frame)    \n",
    "        success, frame = videocap.read()\n",
    "        count += 1"
   ]
  },
  {
   "cell_type": "code",
   "execution_count": 26,
   "metadata": {},
   "outputs": [],
   "source": [
    "#video_to_frames()"
   ]
  },
  {
   "cell_type": "code",
   "execution_count": 27,
   "metadata": {},
   "outputs": [],
   "source": [
    "model = torch.hub.load('pytorch/vision:v0.6.0', 'resnet152', pretrained=True, verbose=False)\n",
    "\n",
    "for param in model.parameters():\n",
    "    param.requires_grad = False\n",
    "\n",
    "model.fc = torch.nn.Linear(2048, 2048)"
   ]
  },
  {
   "cell_type": "code",
   "execution_count": 28,
   "metadata": {},
   "outputs": [],
   "source": [
    "preprocess = transforms.Compose([\n",
    "    transforms.Resize(256),\n",
    "    transforms.CenterCrop(224),\n",
    "    transforms.ToTensor(),\n",
    "    transforms.Normalize(mean=[0.485, 0.456, 0.406],\n",
    "                         std=[0.229, 0.224, 0.225])\n",
    "])"
   ]
  },
  {
   "cell_type": "code",
   "execution_count": 29,
   "metadata": {},
   "outputs": [],
   "source": [
    "def frames_to_tensors():\n",
    "    for i in range(1, 9751):\n",
    "        frame_path = os.path.join(os.path.dirname(os.path.dirname(os.getcwd())), \"src\", \"frames\", f\"frame_{i}.jpg\")\n",
    "        frame = Image.open(frame_path)\n",
    "        frame_tensor = preprocess(frame)\n",
    "        frame_tensor = frame_tensor.unsqueeze(0)\n",
    "        yield frame_tensor"
   ]
  },
  {
   "cell_type": "code",
   "execution_count": 30,
   "metadata": {},
   "outputs": [],
   "source": [
    "def tensors_to_vectors():\n",
    "    for frame_tensor in frames_to_tensors():\n",
    "        # передача картинки в модель и получение выходных данных\n",
    "        with torch.no_grad():\n",
    "            output = model(frame_tensor)\n",
    "        # преобразование выходных данных в вектор\n",
    "        vector = output.numpy().flatten()\n",
    "        yield vector"
   ]
  },
  {
   "cell_type": "code",
   "execution_count": 31,
   "metadata": {},
   "outputs": [],
   "source": [
    "#vector_list = [vector for vector in tensors_to_vectors()]\n",
    "#np.save(\"vector_list\", vector_list)\n",
    "vector_list = np.load(os.path.join(os.path.dirname(os.path.dirname(os.getcwd())), \"src\", \"vector_list.npy\"))"
   ]
  },
  {
   "cell_type": "markdown",
   "metadata": {},
   "source": [
    "## Снимки фМРТ"
   ]
  },
  {
   "cell_type": "code",
   "execution_count": null,
   "metadata": {},
   "outputs": [],
   "source": [
    "subs_with_fmri = ['04', '07', '08', '09', '11', '13', '14', '15', '16', '18',\\\n",
    "                  '22', '24', '27', '28', '29', '31', '35', '41', '43', '44',\\\n",
    "                  '45', '46', '47', '51', '52', '53', '55', '56', '60', '62']"
   ]
  },
  {
   "cell_type": "code",
   "execution_count": 43,
   "metadata": {},
   "outputs": [],
   "source": [
    "class Sub:\n",
    "\n",
    "    def __init__(self, number):\n",
    "        self.number = number\n",
    "        self.path = os.path.join(os.path.dirname(os.path.dirname(os.getcwd())), \"src\", \"ds003688-download\", f\"sub-{self.number}\",\\\n",
    "                                    \"ses-mri3t\", \"func\", f\"sub-{self.number}_ses-mri3t_task-film_run-1_bold.nii.gz\")\n",
    "        self.scan = nib.load(self.path)\n",
    "        self.data = self.scan.get_fdata()\n",
    "        self.tensor = torch.tensor(self.data)\n",
    "        self.tensor_np = self.tensor.numpy()"
   ]
  },
  {
   "cell_type": "code",
   "execution_count": 44,
   "metadata": {},
   "outputs": [],
   "source": [
    "sub = Sub('04')"
   ]
  },
  {
   "cell_type": "code",
   "execution_count": 45,
   "metadata": {},
   "outputs": [
    {
     "data": {
      "text/plain": [
       "torch.Size([40, 64, 64, 641])"
      ]
     },
     "execution_count": 45,
     "metadata": {},
     "output_type": "execute_result"
    }
   ],
   "source": [
    "sub.tensor.shape"
   ]
  },
  {
   "cell_type": "markdown",
   "metadata": {},
   "source": [
    "# Построение линейной модели"
   ]
  },
  {
   "cell_type": "code",
   "execution_count": 136,
   "metadata": {},
   "outputs": [],
   "source": [
    "class Preprocessor:\n",
    "\n",
    "    def __init__(self, sub, dt, coef, train_size=0.7):\n",
    "        self.sub = sub\n",
    "        self.dt = dt\n",
    "        self.coef = coef\n",
    "        self.train_size = train_size\n",
    "\n",
    "        self.nu = 25 # частота видео\n",
    "        self.mu = 641. / 390. # частота снимков фМРТ\n",
    "        self.d1 = self.sub.tensor.shape[0] # размерности снимка фМРТ до сжатия\n",
    "        self.d2 = self.sub.tensor.shape[1]\n",
    "        self.d3 = self.sub.tensor.shape[2]\n",
    "        self.d4 = self.sub.tensor.shape[3]\n",
    "        self.d = 2048 # длина вектора признакового описания изображения\n",
    "        self.N = 641 - int(self.mu * self.dt) # N - количество снимков fMRI\n",
    "\n",
    "        self.train, self.test = self.get_train_test()\n",
    "        self.X_train, self.Y_train, self.X_test, self.Y_test = self.get_XY()\n",
    "\n",
    "    @staticmethod\n",
    "    def preprocess(v):\n",
    "        return (v - v.min()) / (v.max() - v.min())\n",
    "\n",
    "    @staticmethod\n",
    "    def MSE(A):\n",
    "        m, n = A.shape\n",
    "        return 1 / n * np.linalg.norm(A, \"fro\") ** 2 # усреднение по столбцам матрицы\n",
    "\n",
    "    def get_train_test(self):\n",
    "        pairs = [(int(i * self.nu / self.mu), int(self.mu * self.dt + i)) for i in range(self.N)] # (номер изображения, номер снимка)\n",
    "\n",
    "        if (self.coef > 1): # сжатие снимка фМРТ\n",
    "            maxpool = torch.nn.MaxPool3d(kernel_size=self.coef, stride=self.coef)\n",
    "            input_tensor = self.sub.tensor.permute(3, 0, 1, 2)\n",
    "            output_tensor = maxpool(input_tensor).permute(1, 2, 3, 0)\n",
    "            self.sub._tensor = output_tensor\n",
    "            self._d1 = self.sub._tensor.shape[0]\n",
    "            self._d2 = self.sub._tensor.shape[1]\n",
    "            self._d3 = self.sub._tensor.shape[2]\n",
    "            self._d4 = self.sub._tensor.shape[3]\n",
    "        else:\n",
    "            self.sub._tensor = self.sub.tensor\n",
    "            self._d1 = self.sub._tensor.shape[0]\n",
    "            self._d2 = self.sub._tensor.shape[1]\n",
    "            self._d3 = self.sub._tensor.shape[2]\n",
    "            self._d4 = self.sub._tensor.shape[3]\n",
    "\n",
    "        \n",
    "        scans_list = [self.sub._tensor[:, :, :, i] for i in range(self.d4)] # список тензоров снимков фМРТ\n",
    "        voxels = [scan.reshape(self._d1 * self._d2 * self._d3).numpy() for scan in scans_list] # список снимков фМРТ, развернутых в векторы\n",
    "        data = [(vector_list[n], voxels[k]) for n, k in pairs] # (изображение, снимок)\n",
    "\n",
    "        # train, test\n",
    "        l = int(self.train_size * self.d4) # размер обучающей выборки\n",
    "        train, test = data[:l], data[l:]\n",
    "            \n",
    "        train = [(pair[0], self.preprocess(pair[1])) for pair in train]\n",
    "        test = [(pair[0], self.preprocess(pair[1])) for pair in test]\n",
    "\n",
    "        return train, test\n",
    "\n",
    "    def get_XY(self):\n",
    "        X_train = np.array([pair[0] for pair in self.train])\n",
    "        Y_train = np.array([pair[1] for pair in self.train]).T\n",
    "        X_test = np.array([pair[0] for pair in self.test])\n",
    "        Y_test = np.array([pair[1] for pair in self.test]).T\n",
    "        return X_train, Y_train, X_test, Y_test\n",
    "    "
   ]
  },
  {
   "attachments": {},
   "cell_type": "markdown",
   "metadata": {},
   "source": [
    "## Предсказание снимка"
   ]
  },
  {
   "cell_type": "code",
   "execution_count": 166,
   "metadata": {},
   "outputs": [],
   "source": [
    "class LinearPredictor(Preprocessor):\n",
    "    \n",
    "    def __init__(self, sub, dt, coef, alpha, train_size=0.7):\n",
    "        super().__init__(sub, dt, coef, train_size)\n",
    "        self.alpha = alpha\n",
    "        self.output_name = self._get_output_name()\n",
    "\n",
    "    def _get_output_name(self):\n",
    "        output_name = f\"output-{self.dt}-{self.sub.number}-{self.coef}\"\n",
    "        if (self.alpha > 0):\n",
    "            output_name = output_name + f\"-reg-{self.alpha}.npy\"\n",
    "        \n",
    "        folder_path = os.path.join(os.path.dirname(os.path.dirname(os.getcwd())), \"src\", 'subs', f\"sub-{self.sub.number}\")\n",
    "\n",
    "        if not os.path.exists(folder_path):\n",
    "            os.makedirs(folder_path)\n",
    "\n",
    "        output_name = os.path.join(folder_path, output_name)\n",
    "\n",
    "        return output_name\n",
    "\n",
    "    def _predict(self):\n",
    "        W = [] # матрица весов модели\n",
    "\n",
    "        if (self.alpha > 0):\n",
    "            A = np.linalg.inv(self.X_train.T @ self.X_train + self.alpha * np.identity(self.X_train.shape[1])) @ self.X_train.T\n",
    "        else:\n",
    "            A = np.linalg.pinv(self.X_train)\n",
    "        \n",
    "        for i in range(self._d1 * self._d2 * self._d3):\n",
    "            Y_train_vector = self.Y_train[i]\n",
    "            w = A @ Y_train_vector\n",
    "            W.append(w)\n",
    "            \n",
    "        W = np.array(W) # w будут строками\n",
    "\n",
    "        Y_train_predicted = W @ self.X_train.T\n",
    "        Y_test_predicted = W @ self.X_test.T\n",
    "\n",
    "        MSE_train = self.MSE(Y_train_predicted - self.Y_train)\n",
    "        MSE_test = self.MSE(Y_test_predicted - self.Y_test)\n",
    "    \n",
    "        return W, Y_train_predicted, Y_test_predicted, MSE_train, MSE_test\n",
    "\n",
    "    def predict(self):\n",
    "        if not os.path.exists(self.output_name):\n",
    "            output = np.array(self._predict(), dtype=object)\n",
    "            self.W, self.Y_train_predicted, self.Y_test_predicted, self.MSE_train, self.MSE_test = output\n",
    "            np.save(self.output_name, output, allow_pickle=True)\n",
    "        else:\n",
    "            output = np.load(self.output_name, allow_pickle=True)\n",
    "            self.W, self.Y_train_predicted, self.Y_test_predicted, self.MSE_train, self.MSE_test = output"
   ]
  },
  {
   "cell_type": "markdown",
   "metadata": {},
   "source": [
    "## Предсказание разницы между снимками"
   ]
  },
  {
   "cell_type": "code",
   "execution_count": 165,
   "metadata": {},
   "outputs": [],
   "source": [
    "class LinearDeltaPredictor(Preprocessor):\n",
    "    def __init__(self, sub, dt, coef, alpha, train_size=0.7):\n",
    "        super().__init__(sub, dt, coef, train_size)\n",
    "        self.alpha = alpha\n",
    "        self.output_name = self._get_output_name()\n",
    "        self.deltaY_train, self.deltaY_test = self.get_deltaY()\n",
    "\n",
    "    def _get_output_name(self):\n",
    "        output_name = f\"output-{self.dt}-{self.sub.number}-{self.coef}\"\n",
    "        if (self.alpha > 0):\n",
    "            output_name = output_name + f\"-reg-{self.alpha}.npy\"\n",
    "        \n",
    "        folder_path = os.path.join(os.path.dirname(os.path.dirname(os.getcwd())), \"src\", 'subs_delta', f\"sub-{self.sub.number}\")\n",
    "\n",
    "        if not os.path.exists(folder_path):\n",
    "            os.makedirs(folder_path)\n",
    "\n",
    "        output_name = os.path.join(folder_path, output_name)\n",
    "\n",
    "        return output_name\n",
    "\n",
    "    def get_deltaY(self):\n",
    "        delta_train = [(self.train[n][0], self.train[n][1] - self.train[n-1][1]) for n in range(1, len(self.train))]\n",
    "        delta_test = [(self.test[n][0], self.test[n][1] - self.test[n-1][1]) for n in range(1, len(self.test))]\n",
    "        deltaY_train = np.array([pair[1] for pair in delta_train]).T\n",
    "        deltaY_test = np.array([pair[1] for pair in delta_test]).T\n",
    "\n",
    "        return deltaY_train, deltaY_test\n",
    "\n",
    "    def _predict(self):\n",
    "        W = [] # матрица весов модели\n",
    "\n",
    "        if (self.alpha > 0):\n",
    "            A = np.linalg.inv(self.X_train.T @ self.X_train + self.alpha * np.identity(self.X_train.shape[1])) @ self.X_train.T\n",
    "        else:\n",
    "            A = np.linalg.pinv(self.X_train)\n",
    "        \n",
    "        for i in range(self._d1 * self._d2 * self._d3):\n",
    "            deltaY_train_vector = self.Y_train[i]\n",
    "            w = A @ deltaY_train_vector\n",
    "            W.append(w)\n",
    "            \n",
    "        W = np.array(W) # w будут строками\n",
    "\n",
    "        deltaY_train_predicted = W @ self.X_train.T\n",
    "        deltaY_test_predicted = W @ self.X_test.T\n",
    "        Y_train_predicted = np.delete(self.Y_train, -1, 1) + deltaY_train_predicted\n",
    "        Y_test_predicted = np.delete(self.Y_test, -1, 1) + deltaY_test_predicted\n",
    "    \n",
    "        MSE_train = self.MSE(Y_train_predicted - np.delete(self.Y_train, 0, 1))\n",
    "        MSE_test = self.MSE(Y_test_predicted - np.delete(self.Y_test, 0, 1))\n",
    "\n",
    "        return W, deltaY_train_predicted, Y_train_predicted, deltaY_test_predicted, Y_test_predicted, MSE_train, MSE_test\n",
    "\n",
    "    def predict(self):\n",
    "        if not os.path.exists(self.output_name):\n",
    "            output = np.array(self._predict(), dtype=object)\n",
    "            self.W, self.deltaY_train_predicted, self.Y_train_predicted, self.deltaY_test_predicted, self.Y_test_predicted, self.MSE_train, self.MSE_test = output\n",
    "            np.save(self.output_name, output, allow_pickle=True)\n",
    "        else:\n",
    "            output = np.load(self.output_name, allow_pickle=True)\n",
    "            self.W, self.deltaY_train_predicted, self.Y_train_predicted, self.deltaY_test_predicted, self.Y_test_predicted, self.MSE_train, self.MSE_test = output"
   ]
  },
  {
   "cell_type": "code",
   "execution_count": 167,
   "metadata": {},
   "outputs": [],
   "source": [
    "sub = Sub('04')"
   ]
  },
  {
   "cell_type": "code",
   "execution_count": 188,
   "metadata": {},
   "outputs": [],
   "source": [
    "delta = LinearDeltaPredictor(sub=sub, dt=4, coef=1, alpha=1000)"
   ]
  },
  {
   "cell_type": "code",
   "execution_count": 185,
   "metadata": {},
   "outputs": [],
   "source": [
    "linpred.predict()"
   ]
  },
  {
   "cell_type": "code",
   "execution_count": 189,
   "metadata": {},
   "outputs": [
    {
     "ename": "MemoryError",
     "evalue": "Unable to allocate 2.50 GiB for an array with shape (163840, 2048) and data type float64",
     "output_type": "error",
     "traceback": [
      "\u001b[1;31m---------------------------------------------------------------------------\u001b[0m",
      "\u001b[1;31mMemoryError\u001b[0m                               Traceback (most recent call last)",
      "Cell \u001b[1;32mIn[189], line 1\u001b[0m\n\u001b[1;32m----> 1\u001b[0m delta\u001b[39m.\u001b[39;49mpredict()\n",
      "Cell \u001b[1;32mIn[165], line 57\u001b[0m, in \u001b[0;36mLinearDeltaPredictor.predict\u001b[1;34m(self)\u001b[0m\n\u001b[0;32m     55\u001b[0m \u001b[39mdef\u001b[39;00m \u001b[39mpredict\u001b[39m(\u001b[39mself\u001b[39m):\n\u001b[0;32m     56\u001b[0m     \u001b[39mif\u001b[39;00m \u001b[39mnot\u001b[39;00m os\u001b[39m.\u001b[39mpath\u001b[39m.\u001b[39mexists(\u001b[39mself\u001b[39m\u001b[39m.\u001b[39moutput_name):\n\u001b[1;32m---> 57\u001b[0m         output \u001b[39m=\u001b[39m np\u001b[39m.\u001b[39marray(\u001b[39mself\u001b[39;49m\u001b[39m.\u001b[39;49m_predict(), dtype\u001b[39m=\u001b[39m\u001b[39mobject\u001b[39m)\n\u001b[0;32m     58\u001b[0m         \u001b[39mself\u001b[39m\u001b[39m.\u001b[39mW, \u001b[39mself\u001b[39m\u001b[39m.\u001b[39mdeltaY_train_predicted, \u001b[39mself\u001b[39m\u001b[39m.\u001b[39mY_train_predicted, \u001b[39mself\u001b[39m\u001b[39m.\u001b[39mdeltaY_test_predicted, \u001b[39mself\u001b[39m\u001b[39m.\u001b[39mY_test_predicted, \u001b[39mself\u001b[39m\u001b[39m.\u001b[39mMSE_train, \u001b[39mself\u001b[39m\u001b[39m.\u001b[39mMSE_test \u001b[39m=\u001b[39m output\n\u001b[0;32m     59\u001b[0m         np\u001b[39m.\u001b[39msave(\u001b[39mself\u001b[39m\u001b[39m.\u001b[39moutput_name, output, allow_pickle\u001b[39m=\u001b[39m\u001b[39mTrue\u001b[39;00m)\n",
      "Cell \u001b[1;32mIn[165], line 43\u001b[0m, in \u001b[0;36mLinearDeltaPredictor._predict\u001b[1;34m(self)\u001b[0m\n\u001b[0;32m     40\u001b[0m     w \u001b[39m=\u001b[39m A \u001b[39m@\u001b[39m deltaY_train_vector\n\u001b[0;32m     41\u001b[0m     W\u001b[39m.\u001b[39mappend(w)\n\u001b[1;32m---> 43\u001b[0m W \u001b[39m=\u001b[39m np\u001b[39m.\u001b[39;49marray(W) \u001b[39m# w будут строками\u001b[39;00m\n\u001b[0;32m     45\u001b[0m deltaY_train_predicted \u001b[39m=\u001b[39m W \u001b[39m@\u001b[39m \u001b[39mself\u001b[39m\u001b[39m.\u001b[39mX_train\u001b[39m.\u001b[39mT\n\u001b[0;32m     46\u001b[0m deltaY_test_predicted \u001b[39m=\u001b[39m W \u001b[39m@\u001b[39m \u001b[39mself\u001b[39m\u001b[39m.\u001b[39mX_test\u001b[39m.\u001b[39mT\n",
      "\u001b[1;31mMemoryError\u001b[0m: Unable to allocate 2.50 GiB for an array with shape (163840, 2048) and data type float64"
     ]
    }
   ],
   "source": [
    "delta.predict()"
   ]
  },
  {
   "cell_type": "code",
   "execution_count": 187,
   "metadata": {},
   "outputs": [
    {
     "data": {
      "text/plain": [
       "153.45747869048895"
      ]
     },
     "execution_count": 187,
     "metadata": {},
     "output_type": "execute_result"
    }
   ],
   "source": [
    "linpred.MSE_test"
   ]
  }
 ],
 "metadata": {
  "kernelspec": {
   "display_name": "base",
   "language": "python",
   "name": "python3"
  },
  "language_info": {
   "codemirror_mode": {
    "name": "ipython",
    "version": 3
   },
   "file_extension": ".py",
   "mimetype": "text/x-python",
   "name": "python",
   "nbconvert_exporter": "python",
   "pygments_lexer": "ipython3",
   "version": "3.9.16"
  },
  "orig_nbformat": 4
 },
 "nbformat": 4,
 "nbformat_minor": 2
}
