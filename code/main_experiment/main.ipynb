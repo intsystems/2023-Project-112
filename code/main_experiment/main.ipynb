{
 "cells": [
  {
   "cell_type": "markdown",
   "metadata": {},
   "source": [
    "# Импорт библиотек"
   ]
  },
  {
   "cell_type": "code",
   "execution_count": 1,
   "metadata": {},
   "outputs": [],
   "source": [
    "import numpy as np\n",
    "import matplotlib.pyplot as plt\n",
    "import os\n",
    "import nibabel as nib\n",
    "import torch\n",
    "import torchvision.transforms as transforms\n",
    "import cv2\n",
    "from PIL import Image\n",
    "from sklearn.linear_model import LinearRegression\n",
    "from scipy.ndimage import gaussian_filter\n",
    "from scipy.signal import convolve\n",
    "import scipy.signal as signal\n",
    "import random"
   ]
  },
  {
   "cell_type": "markdown",
   "metadata": {},
   "source": [
    "# Задание окружения"
   ]
  },
  {
   "cell_type": "code",
   "execution_count": 2,
   "metadata": {},
   "outputs": [],
   "source": [
    "figures = os.path.join(os.path.dirname(os.path.dirname(os.getcwd())), \"figures\")"
   ]
  },
  {
   "cell_type": "markdown",
   "metadata": {},
   "source": [
    "# Работа с данными"
   ]
  },
  {
   "cell_type": "markdown",
   "metadata": {},
   "source": [
    "## Видеоряд"
   ]
  },
  {
   "cell_type": "code",
   "execution_count": 3,
   "metadata": {},
   "outputs": [],
   "source": [
    "video_path = os.path.join(os.path.dirname(os.path.dirname(os.getcwd())), \"src\", \"Film stimulus.mp4\")"
   ]
  },
  {
   "cell_type": "code",
   "execution_count": 5,
   "metadata": {},
   "outputs": [],
   "source": [
    "def video_to_frames():\n",
    "    videocap = cv2.VideoCapture(video_path)\n",
    "    success, frame = videocap.read()\n",
    "    count = 1\n",
    "    while success:\n",
    "        cv2.imwrite(os.path.join(os.path.dirname(os.path.dirname(os.getcwd())),\n",
    "                                \"src\", \"frames\", f\"frame_{count}.jpg\"), frame)    \n",
    "        success, frame = videocap.read()\n",
    "        count += 1"
   ]
  },
  {
   "cell_type": "code",
   "execution_count": 6,
   "metadata": {},
   "outputs": [],
   "source": [
    "video_to_frames()"
   ]
  },
  {
   "cell_type": "code",
   "execution_count": 6,
   "metadata": {},
   "outputs": [
    {
     "name": "stderr",
     "output_type": "stream",
     "text": [
      "c:\\Users\\kisnikser\\anaconda3\\lib\\site-packages\\torchvision\\models\\_utils.py:208: UserWarning: The parameter 'pretrained' is deprecated since 0.13 and will be removed in 0.15, please use 'weights' instead.\n",
      "  warnings.warn(\n",
      "c:\\Users\\kisnikser\\anaconda3\\lib\\site-packages\\torchvision\\models\\_utils.py:223: UserWarning: Arguments other than a weight enum or `None` for 'weights' are deprecated since 0.13 and will be removed in 0.15. The current behavior is equivalent to passing `weights=ResNet152_Weights.IMAGENET1K_V1`. You can also use `weights=ResNet152_Weights.DEFAULT` to get the most up-to-date weights.\n",
      "  warnings.warn(msg)\n"
     ]
    }
   ],
   "source": [
    "model = torch.hub.load('pytorch/vision:v0.6.0', 'resnet152', pretrained=True, verbose=False)\n",
    "\n",
    "for param in model.parameters():\n",
    "    param.requires_grad = False\n",
    "\n",
    "model.fc = torch.nn.Linear(2048, 2048)"
   ]
  },
  {
   "cell_type": "code",
   "execution_count": 7,
   "metadata": {},
   "outputs": [],
   "source": [
    "preprocess = transforms.Compose([\n",
    "    transforms.Resize(256),\n",
    "    transforms.CenterCrop(224),\n",
    "    transforms.ToTensor(),\n",
    "    transforms.Normalize(mean=[0.485, 0.456, 0.406],\n",
    "                         std=[0.229, 0.224, 0.225])\n",
    "])"
   ]
  },
  {
   "cell_type": "code",
   "execution_count": 10,
   "metadata": {},
   "outputs": [],
   "source": [
    "def frames_to_tensors():\n",
    "    for i in range(1, 9751):\n",
    "        frame_path = os.path.join(os.path.dirname(os.path.dirname(os.getcwd())), \"src\", \"frames\", f\"frame_{i}.jpg\")\n",
    "        frame = Image.open(frame_path)\n",
    "        frame_tensor = preprocess(frame)\n",
    "        frame_tensor = frame_tensor.unsqueeze(0)\n",
    "        yield frame_tensor"
   ]
  },
  {
   "cell_type": "code",
   "execution_count": 11,
   "metadata": {},
   "outputs": [],
   "source": [
    "def tensors_to_vectors():\n",
    "    for frame_tensor in frames_to_tensors():\n",
    "        # передача картинки в модель и получение выходных данных\n",
    "        with torch.no_grad():\n",
    "            output = model(frame_tensor)\n",
    "        # преобразование выходных данных в вектор\n",
    "        vector = output.numpy().flatten()\n",
    "        yield vector"
   ]
  },
  {
   "cell_type": "code",
   "execution_count": 12,
   "metadata": {},
   "outputs": [],
   "source": [
    "#vector_list = [vector for vector in tensors_to_vectors()]\n",
    "#np.save(\"vector_list\", vector_list)\n",
    "vector_list = np.load(os.path.join(os.path.dirname(os.path.dirname(os.getcwd())), \"src\", \"vector_list.npy\"))"
   ]
  },
  {
   "cell_type": "markdown",
   "metadata": {},
   "source": [
    "## Снимки фМРТ"
   ]
  },
  {
   "cell_type": "code",
   "execution_count": 13,
   "metadata": {},
   "outputs": [],
   "source": [
    "subs_with_fmri = ['04', '07', '08', '09', '11', '13', '14', '15', '16', '18',\\\n",
    "                  '22', '24', '27', '28', '29', '31', '35', '41', '43', '44',\\\n",
    "                  '45', '46', '47', '51', '52', '53', '55', '56', '60', '62']"
   ]
  },
  {
   "cell_type": "code",
   "execution_count": 14,
   "metadata": {},
   "outputs": [],
   "source": [
    "def subs_to_tensors():\n",
    "    for sub in subs_with_fmri:\n",
    "        sub_path = os.path.join(os.path.dirname(os.path.dirname(os.getcwd())), \"src\", \"ds003688-download\", f\"sub-{sub}\",\\\n",
    "                                \"ses-mri3t\", \"func\", f\"sub-{sub}_ses-mri3t_task-film_run-1_bold.nii.gz\")\n",
    "        sub_scan = nib.load(sub_path)\n",
    "        sub_data = sub_scan.get_fdata()\n",
    "        sub_tensor = torch.tensor(sub_data)\n",
    "        yield sub_tensor\n",
    "        "
   ]
  },
  {
   "cell_type": "code",
   "execution_count": 15,
   "metadata": {},
   "outputs": [],
   "source": [
    "def get_sub_tensor(nsub: str):\n",
    "    for sub, sub_tensor in zip(subs_with_fmri, subs_to_tensors()):\n",
    "        if nsub != sub:\n",
    "            continue\n",
    "        else:\n",
    "            return sub_tensor"
   ]
  },
  {
   "cell_type": "code",
   "execution_count": 16,
   "metadata": {},
   "outputs": [],
   "source": [
    "sub_tensor = next(subs_to_tensors())\n",
    "X, Y, Z, N = sub_tensor.shape\n",
    "# X = 40\n",
    "# Y = 64\n",
    "# Z = 64\n",
    "# N = 641"
   ]
  },
  {
   "cell_type": "code",
   "execution_count": 17,
   "metadata": {},
   "outputs": [],
   "source": [
    "def scans_to_tensors(nsub: str):\n",
    "    sub_tensor = get_sub_tensor(nsub)\n",
    "    for i in range(sub_tensor.shape[3]):\n",
    "        scan_tensor = sub_tensor[:, :, :, i]\n",
    "        yield scan_tensor.numpy()"
   ]
  },
  {
   "cell_type": "markdown",
   "metadata": {},
   "source": [
    "# Построение линейной модели"
   ]
  },
  {
   "cell_type": "markdown",
   "metadata": {},
   "source": [
    "## Рассмотрение конкретного испытуемого"
   ]
  },
  {
   "cell_type": "code",
   "execution_count": 18,
   "metadata": {},
   "outputs": [],
   "source": [
    "# функция, которая на вход получает\n",
    "# dt - гиперпараметр, время задержки\n",
    "# sub - номер испытуемого\n",
    "# preprocessing - индикатор того, нужно ли предобрабатывать данные\n",
    "# ptype - тип предобработки\n",
    "# compression - индикатор того, нужно ли сжатие снимка фМРТ\n",
    "# coef - во сколько раз сжимается снимок фМРТ\n",
    "# train_size - часть выборки, выделенная под train\n",
    "\n",
    "def sub_linear_prediction(dt=5, sub='04', compression=True, coef=8, train_size=0.7):\n",
    "    # частота видео\n",
    "    nu = 25\n",
    "    # частота снимков фМРТ\n",
    "    mu = 641. / 390.\n",
    "    # размерности снимка фМРТ до сжатия\n",
    "    m, n, k = 40, 64, 64\n",
    "    # длина вектора признакового описания изображения\n",
    "    d = 2048\n",
    "    # N - количество снимков fMRI\n",
    "    N = 641 - int(mu * dt)\n",
    "    # (номер изображения, номер снимка)\n",
    "    pairs = [(int(m * nu / mu), int(mu * dt + m)) for m in range(N)]\n",
    "\n",
    "    # тензор снимка фМРТ\n",
    "    sub_tensor = get_sub_tensor(sub)\n",
    "    \n",
    "    # сжатие снимка фМРТ\n",
    "    if compression:\n",
    "        maxpool = torch.nn.MaxPool3d(kernel_size=coef, stride=coef)\n",
    "        input_tensor = sub_tensor.permute(3, 0, 1, 2)\n",
    "        output_tensor = maxpool(input_tensor).permute(1, 2, 3, 0)\n",
    "    else:\n",
    "        output_tensor = sub_tensor\n",
    "\n",
    "    d1, d2, d3, d4 = output_tensor.shape\n",
    "\n",
    "    # список тензоров снимков фМРТ\n",
    "    scans_list = [output_tensor[:, :, :, i] for i in range(output_tensor.shape[3])]\n",
    "\n",
    "    # список снимков фМРТ, развернутых в векторы (снимки по строкам)\n",
    "    voxels = [scan.reshape(d1 * d2 * d3).numpy() for scan in scans_list]\n",
    "\n",
    "    # (изображение, снимок)\n",
    "    data = [(vector_list[n], voxels[k]) for n, k in pairs]\n",
    "\n",
    "    # train, test\n",
    "    l = int(train_size * d4)\n",
    "    train, test = data[:l], data[l:]\n",
    "\n",
    "    # preprocessing\n",
    "    def preprocess(v):\n",
    "        return (v - v.min()) / (v.max() - v.min())\n",
    "        \n",
    "\n",
    "    train = [(pair[0], preprocess(pair[1])) for pair in train]\n",
    "    test = [(pair[0], preprocess(pair[1])) for pair in test]\n",
    "\n",
    "    # линейная регрессия\n",
    "    linreg = LinearRegression()\n",
    "\n",
    "    # матрица весов модели\n",
    "    W = []\n",
    "\n",
    "    X_train = np.array([pair[0] for pair in train])\n",
    "    Y_train = np.array([pair[1] for pair in train]).T\n",
    "    X_test = np.array([pair[0] for pair in test])\n",
    "    Y_test = np.array([pair[1] for pair in test]).T\n",
    "    X_train_pinv = np.linalg.pinv(X_train)\n",
    "    \n",
    "    for i in range(d1 * d2 * d3):\n",
    "        # создать столбец Y \n",
    "        Y_train_vector = Y_train[i]\n",
    "        w = X_train_pinv @ Y_train_vector\n",
    "        W.append(w)\n",
    "        \n",
    "    # w будут строками    \n",
    "    W = np.array(W)\n",
    "    Y_train_predicted = W @ X_train.T\n",
    "    Y_test_predicted = W @ X_test.T\n",
    "    \n",
    "    \n",
    "    # усреднение по всем столбцам (снимкам фМРТ)\n",
    "    def MSE(A):\n",
    "        m, n = A.shape\n",
    "        return 1 / n * np.linalg.norm(A, \"fro\") ** 2\n",
    "    \n",
    "    MSE_train = MSE(Y_train_predicted - Y_train)\n",
    "    MSE_test = MSE(Y_test_predicted - Y_test)\n",
    "\n",
    "    # сохранение выхода в файл\n",
    "    output = np.array([MSE_train, MSE_test, Y_test, Y_test_predicted, d1, d2, d3], dtype=object)\n",
    "    output_name = f\"output-{dt}-{sub}\"\n",
    "    \n",
    "    if compression:\n",
    "        output_name = output_name + f\"-{coef}\"\n",
    "    folder_path = os.path.join(os.path.dirname(os.path.dirname(os.getcwd())), \"src\", 'subs', f\"sub-{sub}\")\n",
    "    output_name = os.path.join(folder_path, output_name)\n",
    "    np.save(output_name, output, allow_pickle=True)\n",
    "\n",
    "    return output\n",
    "\n"
   ]
  },
  {
   "cell_type": "code",
   "execution_count": 19,
   "metadata": {},
   "outputs": [],
   "source": [
    "def get_model_result(dt=4, sub='04', compression=True, coef=4, train_size=0.7):\n",
    "    output_name = f\"output-{dt}-{sub}\"\n",
    "    \n",
    "    if compression:\n",
    "        output_name = output_name + f\"-{coef}\"\n",
    "    output_name = output_name + \".npy\"\n",
    "    \n",
    "    folder_path = os.path.join(os.path.dirname(os.path.dirname(os.getcwd())), \"src\", 'subs', f\"sub-{sub}\")\n",
    "    output_name = os.path.join(folder_path, output_name)\n",
    "    \n",
    "    if not os.path.exists(folder_path):\n",
    "        os.makedirs(folder_path)\n",
    "        \n",
    "    if not os.path.exists(output_name):\n",
    "        output = sub_linear_prediction(dt, sub, compression, coef, train_size)\n",
    "    else:\n",
    "        output = np.load(output_name, allow_pickle=True)\n",
    "    return output"
   ]
  },
  {
   "cell_type": "code",
   "execution_count": 22,
   "metadata": {},
   "outputs": [
    {
     "name": "stdout",
     "output_type": "stream",
     "text": [
      "MSE_train = 0.00, MSE_test = 1.08\n",
      "CPU times: total: 9.44 s\n",
      "Wall time: 4.14 s\n"
     ]
    }
   ],
   "source": [
    "%%time\n",
    "output = get_model_result(dt=4, sub='04', compression=True, coef=8, train_size=0.7)\n",
    "MSE_train, MSE_test, Y_test, Y_test_predicted, d1, d2, d3 = output\n",
    "print(f\"MSE_train = {MSE_train:.2f}, MSE_test = {MSE_test:.2f}\")"
   ]
  },
  {
   "cell_type": "markdown",
   "metadata": {},
   "source": [
    "## Зависимость MSE на тестовой выборке от гиперпараметра $\\Delta t$"
   ]
  },
  {
   "cell_type": "code",
   "execution_count": 23,
   "metadata": {},
   "outputs": [],
   "source": [
    "t = [0.5, 1, 1.5, 2, 2.5, 3, 3.5, 4, 4.5, 5, 5.5, 6]\n",
    "mse_matrix = []\n",
    "for sub in subs_with_fmri:\n",
    "    mse = []\n",
    "    \n",
    "    for dt in t:\n",
    "        output = get_model_result(dt=dt, sub=sub, compression=True, coef=8, train_size=0.7)\n",
    "        MSE_test = output[1]\n",
    "        mse.append(MSE_test)\n",
    "    \n",
    "    mse_matrix.append(mse)"
   ]
  },
  {
   "cell_type": "code",
   "execution_count": 35,
   "metadata": {},
   "outputs": [],
   "source": [
    "mse_matrix = np.array(mse_matrix)\n",
    "means = np.array([vector.mean() for vector in mse_matrix.T])\n",
    "stds = np.array([vector.std() for vector in mse_matrix.T])"
   ]
  },
  {
   "cell_type": "code",
   "execution_count": 75,
   "metadata": {},
   "outputs": [
    {
     "data": {
      "image/png": "[encoded data removed]",
      "text/plain": [
       "<Figure size 640x480 with 1 Axes>"
      ]
     },
     "metadata": {},
     "output_type": "display_data"
    }
   ],
   "source": [
    "plt.rcParams.update({'font.size': 12})\n",
    "plt.rc(\"font\", family='serif')\n",
    "\n",
    "plt.plot(t, mse_matrix[0], marker='o', color=\"rebeccapurple\", label=\"8x compression\")\n",
    "plt.fill_between(t, means - stds, means + stds, color=\"rebeccapurple\", alpha = 0.3)\n",
    "plt.xlabel(\"Время задержки $\\Delta t$, с\")\n",
    "plt.ylabel(\"MSE\")\n",
    "plt.ylim(0.4, 1.8)\n",
    "plt.legend()\n",
    "plt.grid(alpha=0.2)\n",
    "\n",
    "plt.savefig(os.path.join(figures, \"subs_MSE_dt.pdf\"), bbox_inches=\"tight\")"
   ]
  },
  {
   "cell_type": "code",
   "execution_count": 83,
   "metadata": {},
   "outputs": [
    {
     "name": "stderr",
     "output_type": "stream",
     "text": [
      "The PostScript backend does not support transparency; partially transparent artists will be rendered opaque.\n"
     ]
    },
    {
     "data": {
      "image/png": "[encoded data removed]",
      "text/plain": [
       "<Figure size 432x288 with 1 Axes>"
      ]
     },
     "metadata": {
      "needs_background": "light"
     },
     "output_type": "display_data"
    }
   ],
   "source": [
    "plt.rcParams.update({'font.size': 12})\n",
    "plt.rc(\"font\", family='serif')\n",
    "\n",
    "plt.plot(t, mse, marker='o', color=\"blue\")\n",
    "#plt.title(\"График зависимости MSE($\\Delta t$)\")\n",
    "plt.xlabel(\"Время задержки $\\Delta t$, с\")\n",
    "plt.ylabel(\"MSE\")\n",
    "plt.grid(alpha=0.2)\n",
    "\n",
    "plt.savefig(\"MSE_dt.eps\", bbox_inches=\"tight\")"
   ]
  },
  {
   "cell_type": "markdown",
   "metadata": {},
   "source": [
    "## Срезы истинного и восстановленного снимков"
   ]
  },
  {
   "cell_type": "code",
   "execution_count": 109,
   "metadata": {},
   "outputs": [],
   "source": [
    "def get_scan_slices(\n",
    "            dt,\n",
    "            sub,\n",
    "            compression,\n",
    "            coef,\n",
    "            scan_number=0,\n",
    "            dim=0,\n",
    "            slice_number=0):\n",
    "    output = get_model_result(dt, sub, compression, coef, train_size=0.7)    \n",
    "    MSE_train, MSE_test, Y_test, Y_test_predicted, d1, d2, d3 = output\n",
    "\n",
    "    fmri_test_vector = Y_test.T[scan_number]\n",
    "    fmri_test = fmri_test_vector.reshape((d1, d2, d3))\n",
    "\n",
    "    fmri_predicted_vector = Y_test_predicted.T[scan_number]\n",
    "    fmri_predicted = fmri_predicted_vector.reshape((d1, d2, d3))\n",
    "    \n",
    "    slices = [':', ':', ':']\n",
    "    if dim == 0:\n",
    "        slices[0] = slice_number\n",
    "        slice_orig_image = fmri_test[slice_number, :, :].T\n",
    "        orig_name = f\"sub-{dt}-{sub}-{coef}-{slice_number}-_-_-orig.pdf\"\n",
    "        slice_pred_image = fmri_predicted[slice_number, :, :].T\n",
    "        pred_name = f\"sub-{dt}-{sub}-{coef}-{slice_number}-_-_-pred.pdf\"\n",
    "    elif dim == 1:\n",
    "        slices[1] = slice_number,\n",
    "        slice_orig_image = fmri_test[:, slice_number, :].T\n",
    "        orig_name = f\"sub-{dt}-{sub}-{coef}-_-{slice_number}-_-orig.pdf\"\n",
    "        slice_pred_image = fmri_test[:, slice_number, :].T\n",
    "        pred_name = f\"sub-{dt}-{sub}-{coef}-_-{slice_number}-_-pred.pdf\"\n",
    "    elif dim == 2:\n",
    "        slices[2] = slice_number\n",
    "        slice_orig_image = fmri_test[:, :, slice_number].T\n",
    "        orig_name = f\"sub-{dt}-{sub}-{coef}-_-_-{slice_number}-orig.pdf\"\n",
    "        slice_pred_image = fmri_test[:, :, slice_number].T\n",
    "        pred_name = f\"sub-{dt}-{sub}-{coef}-_-_-{slice_number}-pred.pdf\"\n",
    "    \n",
    "    \n",
    "    folder_path = os.path.join(os.path.dirname(os.path.dirname(os.getcwd())), \"figures\", f\"sub-{dt}-{sub}-{coef}\")\n",
    "    if not os.path.exists(folder_path):\n",
    "        os.makedirs(folder_path)\n",
    "    \n",
    "    os.chmod(folder_path, 0o400)\n",
    "    \n",
    "    print(\"INFORMATION:\")\n",
    "    print(f\"dt = {dt}, sub = {sub}, coef = {coef}, slices = {slices}\\n\")\n",
    "    print(\"ORIGINAL\")\n",
    "    plt.imshow(slice_orig_image, cmap=\"gray\", origin=\"lower\")\n",
    "    plt.colorbar()\n",
    "    plt.savefig(\n",
    "            os.path.join(os.path.dirname(os.path.dirname(os.getcwd())), \"figures\", f\"sub-{dt}-{sub}-{coef}\", orig_name),\n",
    "            bbox_inches=\"tight\")\n",
    "    plt.show()\n",
    "        \n",
    "    print(\"PREDICTED\")\n",
    "    plt.imshow(slice_pred_image, cmap=\"gray\", origin=\"lower\")\n",
    "    plt.colorbar()\n",
    "    plt.savefig(\n",
    "            os.path.join(os.path.dirname(os.path.dirname(os.getcwd())), \"figures\", f\"sub-{dt}-{sub}-{coef}\", pred_name),\n",
    "            bbox_inches=\"tight\")\n",
    "    plt.show()\n",
    "    "
   ]
  },
  {
   "cell_type": "code",
   "execution_count": 124,
   "metadata": {},
   "outputs": [
    {
     "name": "stdout",
     "output_type": "stream",
     "text": [
      "INFORMATION:\n",
      "dt = 4, sub = 04, coef = 1, slices = [':', ':', 32]\n",
      "\n",
      "ORIGINAL\n"
     ]
    },
    {
     "data": {
      "image/png": "[encoded data removed]",
      "text/plain": [
       "<Figure size 432x288 with 2 Axes>"
      ]
     },
     "metadata": {
      "needs_background": "light"
     },
     "output_type": "display_data"
    },
    {
     "name": "stdout",
     "output_type": "stream",
     "text": [
      "PREDICTED\n"
     ]
    },
    {
     "data": {
      "image/png": "[encoded data removed]",
      "text/plain": [
       "<Figure size 432x288 with 2 Axes>"
      ]
     },
     "metadata": {
      "needs_background": "light"
     },
     "output_type": "display_data"
    }
   ],
   "source": [
    "get_scan_slices(\n",
    "        dt=4,\n",
    "        sub='04',\n",
    "        compression = False,\n",
    "        coef=1,\n",
    "        scan_number=180,\n",
    "        dim=2,\n",
    "        slice_number=32)"
   ]
  },
  {
   "cell_type": "code",
   "execution_count": 125,
   "metadata": {},
   "outputs": [
    {
     "name": "stdout",
     "output_type": "stream",
     "text": [
      "0.9786914740700188\n"
     ]
    }
   ],
   "source": [
    "from sklearn.metrics import r2_score\n",
    "r2 = 1/Y_test.shape[1] * sum(list([r2_score(Y_test.T[i], Y_test_predicted.T[i]) for i in range(Y_test.shape[1])]))\n",
    "\n",
    "print(r2)"
   ]
  },
  {
   "cell_type": "code",
   "execution_count": null,
   "metadata": {},
   "outputs": [],
   "source": []
  }
 ],
 "metadata": {
  "kernelspec": {
   "display_name": "Python 3",
   "language": "python",
   "name": "python3"
  },
  "language_info": {
   "codemirror_mode": {
    "name": "ipython",
    "version": 3
   },
   "file_extension": ".py",
   "mimetype": "text/x-python",
   "name": "python",
   "nbconvert_exporter": "python",
   "pygments_lexer": "ipython3",
   "version": "3.9.16"
  }
 },
 "nbformat": 4,
 "nbformat_minor": 2
}
