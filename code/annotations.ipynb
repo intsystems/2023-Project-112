{
 "cells": [
  {
   "cell_type": "code",
   "execution_count": 7,
   "metadata": {},
   "outputs": [
    {
     "name": "stdout",
     "output_type": "stream",
     "text": [
      "The autoreload extension is already loaded. To reload it, use:\n",
      "  %reload_ext autoreload\n"
     ]
    }
   ],
   "source": [
    "import numpy as np\n",
    "import pandas as pd\n",
    "import matplotlib.pyplot as plt\n",
    "import seaborn as sns\n",
    "import os\n",
    "import re\n",
    "\n",
    "#------------------------------\n",
    "\n",
    "import matplotlib.pyplot as plt\n",
    "\n",
    "myparams = {\n",
    "    'text.usetex': True,\n",
    "    'text.latex.preamble': '\\\\usepackage{amsfonts}',\n",
    "    'text.latex.preamble': '\\\\usepackage[utf8]{inputenc}',\n",
    "    'text.latex.preamble': '\\\\usepackage[russian]{babel}',\n",
    "    'font.family': 'Djvu Serif',\n",
    "    'font.size': 14,\n",
    "    'axes.grid': False,\n",
    "    'grid.alpha': 0.1,\n",
    "    'lines.linewidth': 2\n",
    "}\n",
    "\n",
    "plt.rcParams.update(myparams)\n",
    "\n",
    "#------------------------------\n",
    "\n",
    "%load_ext autoreload\n",
    "%autoreload 2"
   ]
  },
  {
   "cell_type": "code",
   "execution_count": 8,
   "metadata": {},
   "outputs": [],
   "source": [
    "def extract_last_word_from_filename(filename):\n",
    "    # Используем регулярное выражение для поиска последнего слова в имени файла\n",
    "    match = re.search(r'([^_]+)\\.tsv$', filename)\n",
    "    if match:\n",
    "        return match.group(1)\n",
    "    else:\n",
    "        return None"
   ]
  },
  {
   "cell_type": "code",
   "execution_count": 20,
   "metadata": {},
   "outputs": [],
   "source": [
    "filenames = []\n",
    "objectnames = []\n",
    "\n",
    "for root, dirs, files in os.walk('annotations/video'):\n",
    "    for filename in files:\n",
    "        filenames.append(os.path.join(root, filename))\n",
    "        objectname = extract_last_word_from_filename(filename)\n",
    "        objectnames.append(objectname)\n",
    "        \n",
    "filenames.sort()\n",
    "objectnames.sort()"
   ]
  },
  {
   "cell_type": "code",
   "execution_count": 21,
   "metadata": {},
   "outputs": [],
   "source": [
    "occur = list()\n",
    "objects = dict()\n",
    "pairs = list()\n",
    "\n",
    "for filename, objectname in zip(filenames, objectnames):\n",
    "    df = pd.read_csv(filename, sep='\\t')\n",
    "    df = (df * 25).astype(dtype=int)\n",
    "    vector = np.zeros(9750, dtype=int)\n",
    "    for ts in df.values:\n",
    "        vector[ts[0]:ts[1]+1] = 1\n",
    "    occur.append(vector)\n",
    "    objects[objectname] = {}\n",
    "    objects[objectname]['count'] = df.shape[0]\n",
    "    objects[objectname]['occurences'] = vector\n",
    "    pairs.append((objectname, df.shape[0]))\n",
    "    \n",
    "occur = np.array(occur)\n",
    "pairs.sort(key=lambda x: x[1], reverse=True) # пары (объек, число появлений в кадре), отсортированные по убыванию числа появлений"
   ]
  },
  {
   "cell_type": "markdown",
   "metadata": {},
   "source": [
    "Посмотрим, какой объект чаще всего появляется в кадре."
   ]
  },
  {
   "cell_type": "code",
   "execution_count": 22,
   "metadata": {},
   "outputs": [
    {
     "name": "stdout",
     "output_type": "stream",
     "text": [
      "Object 'pippi' occured maximum number of times: 26\n"
     ]
    }
   ],
   "source": [
    "print(f\"Object '{pairs[0][0]}' occured maximum number of times: {pairs[0][1]}\")"
   ]
  },
  {
   "cell_type": "markdown",
   "metadata": {},
   "source": [
    "Каждая строка `occur` соответствует одному объекту.\n",
    "\n",
    "Каждый столбец `occur` соответствует одному кадру."
   ]
  },
  {
   "cell_type": "code",
   "execution_count": 23,
   "metadata": {},
   "outputs": [
    {
     "data": {
      "text/plain": [
       "array([[1, 1, 1, ..., 1, 1, 1],\n",
       "       [1, 1, 1, ..., 1, 1, 1],\n",
       "       [1, 1, 1, ..., 0, 0, 0],\n",
       "       ...,\n",
       "       [1, 1, 1, ..., 0, 0, 0],\n",
       "       [1, 1, 1, ..., 1, 1, 1],\n",
       "       [1, 1, 1, ..., 0, 0, 0]])"
      ]
     },
     "execution_count": 23,
     "metadata": {},
     "output_type": "execute_result"
    }
   ],
   "source": [
    "occur"
   ]
  },
  {
   "cell_type": "markdown",
   "metadata": {},
   "source": [
    "Поисследуем немного полученные данные."
   ]
  },
  {
   "cell_type": "code",
   "execution_count": 24,
   "metadata": {},
   "outputs": [
    {
     "data": {
      "text/plain": [
       "array([50, 50, 50, ..., 15, 15, 15])"
      ]
     },
     "execution_count": 24,
     "metadata": {},
     "output_type": "execute_result"
    }
   ],
   "source": [
    "occur.sum(axis=0)"
   ]
  },
  {
   "cell_type": "code",
   "execution_count": 25,
   "metadata": {},
   "outputs": [
    {
     "data": {
      "text/plain": [
       "135"
      ]
     },
     "execution_count": 25,
     "metadata": {},
     "output_type": "execute_result"
    }
   ],
   "source": [
    "len(objectnames)"
   ]
  },
  {
   "cell_type": "code",
   "execution_count": 26,
   "metadata": {},
   "outputs": [
    {
     "data": {
      "text/plain": [
       "72"
      ]
     },
     "execution_count": 26,
     "metadata": {},
     "output_type": "execute_result"
    }
   ],
   "source": [
    "objectnames.index('horse')"
   ]
  }
 ],
 "metadata": {
  "kernelspec": {
   "display_name": "base",
   "language": "python",
   "name": "python3"
  },
  "language_info": {
   "codemirror_mode": {
    "name": "ipython",
    "version": 3
   },
   "file_extension": ".py",
   "mimetype": "text/x-python",
   "name": "python",
   "nbconvert_exporter": "python",
   "pygments_lexer": "ipython3",
   "version": "3.9.16"
  }
 },
 "nbformat": 4,
 "nbformat_minor": 2
}
